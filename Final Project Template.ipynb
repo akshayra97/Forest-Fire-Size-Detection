{
 "cells": [
  {
   "cell_type": "markdown",
   "metadata": {},
   "source": [
    "# Introduction (5 Points)"
   ]
  },
  {
   "cell_type": "markdown",
   "metadata": {},
   "source": [
    "As climate change becomes a more prominant issue, the spread of wildfires become more prominent. The number of acres burned and the quantity of wildfires per year has increased steadily over the past couple years. It becomes important to predict these wildfires based on weather and other charecteristics to prevent the wildfire from happening in general. Conversly, it becomes important to predict the area that the wildfire might spread to prevent caualties and provide the necessary support equipment. Predicting the fire size and intensity will allow for proper deployment of the fire departments to contain the fire. This project will focus on the latter, predicting wildfire size and intensity to allow for safe evacuation and containment prior to spreading to populated location. Essentially, we break this up into a two part problem. The first problem is to try and fit a regression model that takes charecteristics of a wildfire to predict its size that burned in acres. This model can be improved using decision trees and tuning techniques. We can apply this to new test data to predict the accuracy of the model. We will be looking at two types of datasets to predict the burned area regression model. The first dataset is from California and it has attributes on location, number of tankers used, fire temperature, nearby fire stations, and more fire fighting features. The dataset was acquired from California.gov website. There is a high vote confidence this dataset is accurate. The second set of data used to predict a burned area regression model is from Portugal. This dataset has recent fires from Portugal and their charecteristics. Unlike the first dataset, this dataset has more features of the fire itself. We will try to model the burned area of a fire based on its charecteristics. This dataset was acquired from UCI database. This dataset comes from a trusted source. Our final part predicts the confidence a wildfire happens. This dataset is from NASA and has attributes to current climate, temperature, water bodies around, man made structures and other factors that increase of decrease the chance of a wildfire happening. . A multiclass CNN model can be built to understand the intensity of a fire and a classify into one of the three categories.. Then apply this to test data to predict fire confidence AUC ROC. "
   ]
  },
  {
   "cell_type": "markdown",
   "metadata": {},
   "source": [
    "# Methods (10 Points)"
   ]
  },
  {
   "cell_type": "markdown",
   "metadata": {},
   "source": [
    "Here, load and describe the data. Discuss and do any processing to the data in this section. "
   ]
  },
  {
   "cell_type": "code",
   "execution_count": 2,
   "metadata": {},
   "outputs": [
    {
     "name": "stdout",
     "output_type": "stream",
     "text": [
      "<class 'pandas.core.frame.DataFrame'>\n",
      "RangeIndex: 1636 entries, 0 to 1635\n",
      "Data columns (total 40 columns):\n",
      " #   Column                Non-Null Count  Dtype  \n",
      "---  ------                --------------  -----  \n",
      " 0   AcresBurned           1633 non-null   float64\n",
      " 1   Active                1636 non-null   bool   \n",
      " 2   AdminUnit             1636 non-null   object \n",
      " 3   AirTankers            28 non-null     float64\n",
      " 4   ArchiveYear           1636 non-null   int64  \n",
      " 5   CalFireIncident       1636 non-null   bool   \n",
      " 6   CanonicalUrl          1636 non-null   object \n",
      " 7   ConditionStatement    284 non-null    object \n",
      " 8   ControlStatement      111 non-null    object \n",
      " 9   Counties              1636 non-null   object \n",
      " 10  CountyIds             1636 non-null   object \n",
      " 11  CrewsInvolved         171 non-null    float64\n",
      " 12  Dozers                123 non-null    float64\n",
      " 13  Engines               191 non-null    float64\n",
      " 14  Extinguished          1577 non-null   object \n",
      " 15  Fatalities            21 non-null     float64\n",
      " 16  Featured              1636 non-null   bool   \n",
      " 17  Final                 1636 non-null   bool   \n",
      " 18  FuelType              12 non-null     object \n",
      " 19  Helicopters           84 non-null     float64\n",
      " 20  Injuries              120 non-null    float64\n",
      " 21  Latitude              1636 non-null   float64\n",
      " 22  Location              1636 non-null   object \n",
      " 23  Longitude             1636 non-null   float64\n",
      " 24  MajorIncident         1636 non-null   bool   \n",
      " 25  Name                  1636 non-null   object \n",
      " 26  PercentContained      1633 non-null   float64\n",
      " 27  PersonnelInvolved     204 non-null    float64\n",
      " 28  Public                1636 non-null   bool   \n",
      " 29  SearchDescription     1619 non-null   object \n",
      " 30  SearchKeywords        1433 non-null   object \n",
      " 31  Started               1636 non-null   object \n",
      " 32  Status                1636 non-null   object \n",
      " 33  StructuresDamaged     67 non-null     float64\n",
      " 34  StructuresDestroyed   175 non-null    float64\n",
      " 35  StructuresEvacuated   0 non-null      float64\n",
      " 36  StructuresThreatened  30 non-null     float64\n",
      " 37  UniqueId              1636 non-null   object \n",
      " 38  Updated               1636 non-null   object \n",
      " 39  WaterTenders          146 non-null    float64\n",
      "dtypes: bool(6), float64(17), int64(1), object(16)\n",
      "memory usage: 444.3+ KB\n"
     ]
    }
   ],
   "source": [
    "#Import necessary libraries\n",
    "import pandas as pd\n",
    "import numpy as np\n",
    "from matplotlib import pyplot as plt\n",
    "\n",
    "from sklearn.ensemble import RandomForestRegressor, RandomForestClassifier\n",
    "from sklearn.model_selection import RandomizedSearchCV\n",
    "from sklearn.model_selection import GridSearchCV\n",
    "from sklearn.model_selection import cross_val_score\n",
    "from sklearn.datasets import load_boston, load_iris\n",
    "from sklearn.tree import DecisionTreeClassifier\n",
    "from sklearn.ensemble import BaggingClassifier\n",
    "from sklearn import metrics\n",
    "\n",
    "from sklearn.model_selection import train_test_split\n",
    "from sklearn.inspection import permutation_importance\n",
    "\n",
    "import warnings\n",
    "warnings.filterwarnings('ignore')\n",
    "# Read California Fire Data\n",
    "california_fire_data_raw = pd.read_csv('California_Fire_Incidents.csv')\n",
    "california_fire_data_raw.info()"
   ]
  },
  {
   "cell_type": "markdown",
   "metadata": {},
   "source": [
    "We will be parsing two types of data sets to see which attributes and models predict the wildfires better. The first data set is from California. Below we are looking at the datatypes and feature correlation of the california dataset. The next dataset is from northeast Portugal and holds slightly different feature characteristics.  "
   ]
  },
  {
   "cell_type": "code",
   "execution_count": 3,
   "metadata": {},
   "outputs": [
    {
     "name": "stdout",
     "output_type": "stream",
     "text": [
      "<class 'pandas.core.frame.DataFrame'>\n",
      "RangeIndex: 1636 entries, 0 to 1635\n",
      "Data columns (total 17 columns):\n",
      " #   Column                Non-Null Count  Dtype  \n",
      "---  ------                --------------  -----  \n",
      " 0   AcresBurned           1636 non-null   float64\n",
      " 1   AirTankers            1636 non-null   float64\n",
      " 2   ArchiveYear           1636 non-null   int64  \n",
      " 3   CrewsInvolved         1636 non-null   float64\n",
      " 4   Dozers                1636 non-null   float64\n",
      " 5   Engines               1636 non-null   float64\n",
      " 6   Fatalities            1636 non-null   float64\n",
      " 7   Helicopters           1636 non-null   float64\n",
      " 8   Injuries              1636 non-null   float64\n",
      " 9   Latitude              1636 non-null   float64\n",
      " 10  Longitude             1636 non-null   float64\n",
      " 11  PersonnelInvolved     1636 non-null   float64\n",
      " 12  StructuresDamaged     1636 non-null   float64\n",
      " 13  StructuresDestroyed   1636 non-null   float64\n",
      " 14  StructuresThreatened  1636 non-null   float64\n",
      " 15  WaterTenders          1636 non-null   float64\n",
      " 16  FireTime              1636 non-null   float64\n",
      "dtypes: float64(16), int64(1)\n",
      "memory usage: 217.4 KB\n"
     ]
    }
   ],
   "source": [
    "# California Fire Analysis\n",
    "# Drop non-numerical/non usefull data for our analysis\n",
    "california_fire_data = california_fire_data_raw.select_dtypes(['number'])\n",
    "# The duration of the fire will be usefull to computed the acres burned, so am converting the start and end time of the fire to create one duration column\n",
    "california_fire_data['FireTime'] = (pd.to_datetime(california_fire_data_raw.Extinguished) - pd.to_datetime(california_fire_data_raw.Started)).astype('timedelta64[h]')/24 # To convert in days\n",
    "california_fire_data['FireTime'] = pd.to_numeric(california_fire_data.FireTime,errors = 'coerce')\n",
    "# It seems some duration times are negative. Either need to drop or take absolute value.\n",
    "california_fire_data['FireTime'] = np.abs(california_fire_data.FireTime)\n",
    "california_fire_data = california_fire_data.fillna(0)\n",
    "california_fire_data = california_fire_data.drop('PercentContained', axis=1)\n",
    "california_fire_data = california_fire_data.drop('StructuresEvacuated', axis=1)\n",
    "california_fire_data.info()"
   ]
  },
  {
   "cell_type": "code",
   "execution_count": 4,
   "metadata": {},
   "outputs": [
    {
     "data": {
      "text/html": [
       "<div>\n",
       "<style scoped>\n",
       "    .dataframe tbody tr th:only-of-type {\n",
       "        vertical-align: middle;\n",
       "    }\n",
       "\n",
       "    .dataframe tbody tr th {\n",
       "        vertical-align: top;\n",
       "    }\n",
       "\n",
       "    .dataframe thead th {\n",
       "        text-align: right;\n",
       "    }\n",
       "</style>\n",
       "<table border=\"1\" class=\"dataframe\">\n",
       "  <thead>\n",
       "    <tr style=\"text-align: right;\">\n",
       "      <th></th>\n",
       "      <th>AirTankers</th>\n",
       "      <th>ArchiveYear</th>\n",
       "      <th>CrewsInvolved</th>\n",
       "      <th>Dozers</th>\n",
       "      <th>Engines</th>\n",
       "      <th>Fatalities</th>\n",
       "      <th>Helicopters</th>\n",
       "      <th>Injuries</th>\n",
       "      <th>Latitude</th>\n",
       "      <th>Longitude</th>\n",
       "      <th>PersonnelInvolved</th>\n",
       "      <th>StructuresDamaged</th>\n",
       "      <th>StructuresDestroyed</th>\n",
       "      <th>StructuresThreatened</th>\n",
       "      <th>WaterTenders</th>\n",
       "      <th>FireTime</th>\n",
       "    </tr>\n",
       "  </thead>\n",
       "  <tbody>\n",
       "    <tr>\n",
       "      <th>63</th>\n",
       "      <td>0.0</td>\n",
       "      <td>2013</td>\n",
       "      <td>6.0</td>\n",
       "      <td>0.0</td>\n",
       "      <td>15.0</td>\n",
       "      <td>0.0</td>\n",
       "      <td>0.0</td>\n",
       "      <td>0.0</td>\n",
       "      <td>38.382000</td>\n",
       "      <td>-122.311000</td>\n",
       "      <td>150.0</td>\n",
       "      <td>0.0</td>\n",
       "      <td>1.0</td>\n",
       "      <td>0.0</td>\n",
       "      <td>3.0</td>\n",
       "      <td>1.833333</td>\n",
       "    </tr>\n",
       "    <tr>\n",
       "      <th>1316</th>\n",
       "      <td>0.0</td>\n",
       "      <td>2018</td>\n",
       "      <td>0.0</td>\n",
       "      <td>0.0</td>\n",
       "      <td>0.0</td>\n",
       "      <td>0.0</td>\n",
       "      <td>0.0</td>\n",
       "      <td>0.0</td>\n",
       "      <td>39.890750</td>\n",
       "      <td>-120.184990</td>\n",
       "      <td>0.0</td>\n",
       "      <td>0.0</td>\n",
       "      <td>0.0</td>\n",
       "      <td>0.0</td>\n",
       "      <td>0.0</td>\n",
       "      <td>252.791667</td>\n",
       "    </tr>\n",
       "    <tr>\n",
       "      <th>1018</th>\n",
       "      <td>0.0</td>\n",
       "      <td>2017</td>\n",
       "      <td>0.0</td>\n",
       "      <td>0.0</td>\n",
       "      <td>0.0</td>\n",
       "      <td>0.0</td>\n",
       "      <td>0.0</td>\n",
       "      <td>0.0</td>\n",
       "      <td>33.786600</td>\n",
       "      <td>-117.504800</td>\n",
       "      <td>0.0</td>\n",
       "      <td>0.0</td>\n",
       "      <td>0.0</td>\n",
       "      <td>0.0</td>\n",
       "      <td>0.0</td>\n",
       "      <td>253.583333</td>\n",
       "    </tr>\n",
       "    <tr>\n",
       "      <th>1046</th>\n",
       "      <td>0.0</td>\n",
       "      <td>2017</td>\n",
       "      <td>0.0</td>\n",
       "      <td>0.0</td>\n",
       "      <td>0.0</td>\n",
       "      <td>0.0</td>\n",
       "      <td>0.0</td>\n",
       "      <td>0.0</td>\n",
       "      <td>39.754250</td>\n",
       "      <td>-122.176570</td>\n",
       "      <td>0.0</td>\n",
       "      <td>0.0</td>\n",
       "      <td>0.0</td>\n",
       "      <td>0.0</td>\n",
       "      <td>0.0</td>\n",
       "      <td>173.750000</td>\n",
       "    </tr>\n",
       "    <tr>\n",
       "      <th>1149</th>\n",
       "      <td>0.0</td>\n",
       "      <td>2018</td>\n",
       "      <td>0.0</td>\n",
       "      <td>0.0</td>\n",
       "      <td>0.0</td>\n",
       "      <td>0.0</td>\n",
       "      <td>0.0</td>\n",
       "      <td>0.0</td>\n",
       "      <td>40.183950</td>\n",
       "      <td>-122.275740</td>\n",
       "      <td>0.0</td>\n",
       "      <td>0.0</td>\n",
       "      <td>24.0</td>\n",
       "      <td>0.0</td>\n",
       "      <td>0.0</td>\n",
       "      <td>194.875000</td>\n",
       "    </tr>\n",
       "    <tr>\n",
       "      <th>...</th>\n",
       "      <td>...</td>\n",
       "      <td>...</td>\n",
       "      <td>...</td>\n",
       "      <td>...</td>\n",
       "      <td>...</td>\n",
       "      <td>...</td>\n",
       "      <td>...</td>\n",
       "      <td>...</td>\n",
       "      <td>...</td>\n",
       "      <td>...</td>\n",
       "      <td>...</td>\n",
       "      <td>...</td>\n",
       "      <td>...</td>\n",
       "      <td>...</td>\n",
       "      <td>...</td>\n",
       "      <td>...</td>\n",
       "    </tr>\n",
       "    <tr>\n",
       "      <th>1130</th>\n",
       "      <td>0.0</td>\n",
       "      <td>2018</td>\n",
       "      <td>0.0</td>\n",
       "      <td>0.0</td>\n",
       "      <td>0.0</td>\n",
       "      <td>0.0</td>\n",
       "      <td>0.0</td>\n",
       "      <td>0.0</td>\n",
       "      <td>36.355020</td>\n",
       "      <td>-121.156300</td>\n",
       "      <td>0.0</td>\n",
       "      <td>0.0</td>\n",
       "      <td>0.0</td>\n",
       "      <td>0.0</td>\n",
       "      <td>0.0</td>\n",
       "      <td>112.708333</td>\n",
       "    </tr>\n",
       "    <tr>\n",
       "      <th>1294</th>\n",
       "      <td>0.0</td>\n",
       "      <td>2018</td>\n",
       "      <td>0.0</td>\n",
       "      <td>0.0</td>\n",
       "      <td>0.0</td>\n",
       "      <td>0.0</td>\n",
       "      <td>0.0</td>\n",
       "      <td>0.0</td>\n",
       "      <td>35.685390</td>\n",
       "      <td>-120.951570</td>\n",
       "      <td>0.0</td>\n",
       "      <td>0.0</td>\n",
       "      <td>0.0</td>\n",
       "      <td>0.0</td>\n",
       "      <td>0.0</td>\n",
       "      <td>166.708333</td>\n",
       "    </tr>\n",
       "    <tr>\n",
       "      <th>860</th>\n",
       "      <td>0.0</td>\n",
       "      <td>2017</td>\n",
       "      <td>0.0</td>\n",
       "      <td>0.0</td>\n",
       "      <td>0.0</td>\n",
       "      <td>0.0</td>\n",
       "      <td>0.0</td>\n",
       "      <td>0.0</td>\n",
       "      <td>40.158300</td>\n",
       "      <td>-122.320900</td>\n",
       "      <td>0.0</td>\n",
       "      <td>0.0</td>\n",
       "      <td>0.0</td>\n",
       "      <td>0.0</td>\n",
       "      <td>0.0</td>\n",
       "      <td>164.916667</td>\n",
       "    </tr>\n",
       "    <tr>\n",
       "      <th>1459</th>\n",
       "      <td>0.0</td>\n",
       "      <td>2019</td>\n",
       "      <td>0.0</td>\n",
       "      <td>0.0</td>\n",
       "      <td>0.0</td>\n",
       "      <td>0.0</td>\n",
       "      <td>0.0</td>\n",
       "      <td>0.0</td>\n",
       "      <td>37.708743</td>\n",
       "      <td>-121.841879</td>\n",
       "      <td>0.0</td>\n",
       "      <td>0.0</td>\n",
       "      <td>0.0</td>\n",
       "      <td>0.0</td>\n",
       "      <td>0.0</td>\n",
       "      <td>0.000000</td>\n",
       "    </tr>\n",
       "    <tr>\n",
       "      <th>1126</th>\n",
       "      <td>0.0</td>\n",
       "      <td>2018</td>\n",
       "      <td>0.0</td>\n",
       "      <td>0.0</td>\n",
       "      <td>0.0</td>\n",
       "      <td>0.0</td>\n",
       "      <td>0.0</td>\n",
       "      <td>0.0</td>\n",
       "      <td>36.378333</td>\n",
       "      <td>-120.901167</td>\n",
       "      <td>0.0</td>\n",
       "      <td>0.0</td>\n",
       "      <td>0.0</td>\n",
       "      <td>0.0</td>\n",
       "      <td>0.0</td>\n",
       "      <td>213.666667</td>\n",
       "    </tr>\n",
       "  </tbody>\n",
       "</table>\n",
       "<p>1308 rows × 16 columns</p>\n",
       "</div>"
      ],
      "text/plain": [
       "      AirTankers  ArchiveYear  CrewsInvolved  Dozers  Engines  Fatalities  \\\n",
       "63           0.0         2013            6.0     0.0     15.0         0.0   \n",
       "1316         0.0         2018            0.0     0.0      0.0         0.0   \n",
       "1018         0.0         2017            0.0     0.0      0.0         0.0   \n",
       "1046         0.0         2017            0.0     0.0      0.0         0.0   \n",
       "1149         0.0         2018            0.0     0.0      0.0         0.0   \n",
       "...          ...          ...            ...     ...      ...         ...   \n",
       "1130         0.0         2018            0.0     0.0      0.0         0.0   \n",
       "1294         0.0         2018            0.0     0.0      0.0         0.0   \n",
       "860          0.0         2017            0.0     0.0      0.0         0.0   \n",
       "1459         0.0         2019            0.0     0.0      0.0         0.0   \n",
       "1126         0.0         2018            0.0     0.0      0.0         0.0   \n",
       "\n",
       "      Helicopters  Injuries   Latitude   Longitude  PersonnelInvolved  \\\n",
       "63            0.0       0.0  38.382000 -122.311000              150.0   \n",
       "1316          0.0       0.0  39.890750 -120.184990                0.0   \n",
       "1018          0.0       0.0  33.786600 -117.504800                0.0   \n",
       "1046          0.0       0.0  39.754250 -122.176570                0.0   \n",
       "1149          0.0       0.0  40.183950 -122.275740                0.0   \n",
       "...           ...       ...        ...         ...                ...   \n",
       "1130          0.0       0.0  36.355020 -121.156300                0.0   \n",
       "1294          0.0       0.0  35.685390 -120.951570                0.0   \n",
       "860           0.0       0.0  40.158300 -122.320900                0.0   \n",
       "1459          0.0       0.0  37.708743 -121.841879                0.0   \n",
       "1126          0.0       0.0  36.378333 -120.901167                0.0   \n",
       "\n",
       "      StructuresDamaged  StructuresDestroyed  StructuresThreatened  \\\n",
       "63                  0.0                  1.0                   0.0   \n",
       "1316                0.0                  0.0                   0.0   \n",
       "1018                0.0                  0.0                   0.0   \n",
       "1046                0.0                  0.0                   0.0   \n",
       "1149                0.0                 24.0                   0.0   \n",
       "...                 ...                  ...                   ...   \n",
       "1130                0.0                  0.0                   0.0   \n",
       "1294                0.0                  0.0                   0.0   \n",
       "860                 0.0                  0.0                   0.0   \n",
       "1459                0.0                  0.0                   0.0   \n",
       "1126                0.0                  0.0                   0.0   \n",
       "\n",
       "      WaterTenders    FireTime  \n",
       "63             3.0    1.833333  \n",
       "1316           0.0  252.791667  \n",
       "1018           0.0  253.583333  \n",
       "1046           0.0  173.750000  \n",
       "1149           0.0  194.875000  \n",
       "...            ...         ...  \n",
       "1130           0.0  112.708333  \n",
       "1294           0.0  166.708333  \n",
       "860            0.0  164.916667  \n",
       "1459           0.0    0.000000  \n",
       "1126           0.0  213.666667  \n",
       "\n",
       "[1308 rows x 16 columns]"
      ]
     },
     "execution_count": 4,
     "metadata": {},
     "output_type": "execute_result"
    }
   ],
   "source": [
    "# splitting into train and test\n",
    "from sklearn.model_selection import train_test_split\n",
    "from sklearn.preprocessing import StandardScaler\n",
    "X_cali = california_fire_data.drop('AcresBurned', axis=1)\n",
    "y_cali = california_fire_data['AcresBurned']\n",
    "X_train_cali, X_test_cali, y_train_cali, y_test_cali = train_test_split(X_cali, y_cali, test_size=.20, random_state = 42)\n",
    "X_train_cali"
   ]
  },
  {
   "cell_type": "code",
   "execution_count": 5,
   "metadata": {},
   "outputs": [
    {
     "data": {
      "text/html": [
       "<div>\n",
       "<style scoped>\n",
       "    .dataframe tbody tr th:only-of-type {\n",
       "        vertical-align: middle;\n",
       "    }\n",
       "\n",
       "    .dataframe tbody tr th {\n",
       "        vertical-align: top;\n",
       "    }\n",
       "\n",
       "    .dataframe thead th {\n",
       "        text-align: right;\n",
       "    }\n",
       "</style>\n",
       "<table border=\"1\" class=\"dataframe\">\n",
       "  <thead>\n",
       "    <tr style=\"text-align: right;\">\n",
       "      <th></th>\n",
       "      <th>AirTankers</th>\n",
       "      <th>ArchiveYear</th>\n",
       "      <th>CrewsInvolved</th>\n",
       "      <th>Dozers</th>\n",
       "      <th>Engines</th>\n",
       "      <th>Fatalities</th>\n",
       "      <th>Helicopters</th>\n",
       "      <th>Injuries</th>\n",
       "      <th>Latitude</th>\n",
       "      <th>Longitude</th>\n",
       "      <th>PersonnelInvolved</th>\n",
       "      <th>StructuresDamaged</th>\n",
       "      <th>StructuresDestroyed</th>\n",
       "      <th>StructuresThreatened</th>\n",
       "      <th>WaterTenders</th>\n",
       "      <th>FireTime</th>\n",
       "    </tr>\n",
       "  </thead>\n",
       "  <tbody>\n",
       "    <tr>\n",
       "      <th>0</th>\n",
       "      <td>-0.079805</td>\n",
       "      <td>-1.969318</td>\n",
       "      <td>0.731945</td>\n",
       "      <td>-0.138297</td>\n",
       "      <td>0.680709</td>\n",
       "      <td>-0.047557</td>\n",
       "      <td>-0.139214</td>\n",
       "      <td>-0.181899</td>\n",
       "      <td>0.000627</td>\n",
       "      <td>-0.376635</td>\n",
       "      <td>0.454752</td>\n",
       "      <td>-0.077236</td>\n",
       "      <td>-0.050739</td>\n",
       "      <td>-0.07514</td>\n",
       "      <td>0.456128</td>\n",
       "      <td>-0.139009</td>\n",
       "    </tr>\n",
       "    <tr>\n",
       "      <th>1</th>\n",
       "      <td>-0.079805</td>\n",
       "      <td>0.726232</td>\n",
       "      <td>-0.206974</td>\n",
       "      <td>-0.138297</td>\n",
       "      <td>-0.174810</td>\n",
       "      <td>-0.047557</td>\n",
       "      <td>-0.139214</td>\n",
       "      <td>-0.181899</td>\n",
       "      <td>0.010607</td>\n",
       "      <td>-0.317999</td>\n",
       "      <td>-0.189388</td>\n",
       "      <td>-0.077236</td>\n",
       "      <td>-0.052552</td>\n",
       "      <td>-0.07514</td>\n",
       "      <td>-0.162126</td>\n",
       "      <td>0.123858</td>\n",
       "    </tr>\n",
       "    <tr>\n",
       "      <th>2</th>\n",
       "      <td>-0.079805</td>\n",
       "      <td>0.187122</td>\n",
       "      <td>-0.206974</td>\n",
       "      <td>-0.138297</td>\n",
       "      <td>-0.174810</td>\n",
       "      <td>-0.047557</td>\n",
       "      <td>-0.139214</td>\n",
       "      <td>-0.181899</td>\n",
       "      <td>-0.029773</td>\n",
       "      <td>-0.244078</td>\n",
       "      <td>-0.189388</td>\n",
       "      <td>-0.077236</td>\n",
       "      <td>-0.052552</td>\n",
       "      <td>-0.07514</td>\n",
       "      <td>-0.162126</td>\n",
       "      <td>0.124688</td>\n",
       "    </tr>\n",
       "    <tr>\n",
       "      <th>3</th>\n",
       "      <td>-0.079805</td>\n",
       "      <td>0.187122</td>\n",
       "      <td>-0.206974</td>\n",
       "      <td>-0.138297</td>\n",
       "      <td>-0.174810</td>\n",
       "      <td>-0.047557</td>\n",
       "      <td>-0.139214</td>\n",
       "      <td>-0.181899</td>\n",
       "      <td>0.009704</td>\n",
       "      <td>-0.372928</td>\n",
       "      <td>-0.189388</td>\n",
       "      <td>-0.077236</td>\n",
       "      <td>-0.052552</td>\n",
       "      <td>-0.07514</td>\n",
       "      <td>-0.162126</td>\n",
       "      <td>0.041066</td>\n",
       "    </tr>\n",
       "    <tr>\n",
       "      <th>4</th>\n",
       "      <td>-0.079805</td>\n",
       "      <td>0.726232</td>\n",
       "      <td>-0.206974</td>\n",
       "      <td>-0.138297</td>\n",
       "      <td>-0.174810</td>\n",
       "      <td>-0.047557</td>\n",
       "      <td>-0.139214</td>\n",
       "      <td>-0.181899</td>\n",
       "      <td>0.012547</td>\n",
       "      <td>-0.375663</td>\n",
       "      <td>-0.189388</td>\n",
       "      <td>-0.077236</td>\n",
       "      <td>-0.009041</td>\n",
       "      <td>-0.07514</td>\n",
       "      <td>-0.162126</td>\n",
       "      <td>0.063193</td>\n",
       "    </tr>\n",
       "    <tr>\n",
       "      <th>...</th>\n",
       "      <td>...</td>\n",
       "      <td>...</td>\n",
       "      <td>...</td>\n",
       "      <td>...</td>\n",
       "      <td>...</td>\n",
       "      <td>...</td>\n",
       "      <td>...</td>\n",
       "      <td>...</td>\n",
       "      <td>...</td>\n",
       "      <td>...</td>\n",
       "      <td>...</td>\n",
       "      <td>...</td>\n",
       "      <td>...</td>\n",
       "      <td>...</td>\n",
       "      <td>...</td>\n",
       "      <td>...</td>\n",
       "    </tr>\n",
       "    <tr>\n",
       "      <th>1303</th>\n",
       "      <td>-0.079805</td>\n",
       "      <td>0.726232</td>\n",
       "      <td>-0.206974</td>\n",
       "      <td>-0.138297</td>\n",
       "      <td>-0.174810</td>\n",
       "      <td>-0.047557</td>\n",
       "      <td>-0.139214</td>\n",
       "      <td>-0.181899</td>\n",
       "      <td>-0.012782</td>\n",
       "      <td>-0.344788</td>\n",
       "      <td>-0.189388</td>\n",
       "      <td>-0.077236</td>\n",
       "      <td>-0.052552</td>\n",
       "      <td>-0.07514</td>\n",
       "      <td>-0.162126</td>\n",
       "      <td>-0.022873</td>\n",
       "    </tr>\n",
       "    <tr>\n",
       "      <th>1304</th>\n",
       "      <td>-0.079805</td>\n",
       "      <td>0.726232</td>\n",
       "      <td>-0.206974</td>\n",
       "      <td>-0.138297</td>\n",
       "      <td>-0.174810</td>\n",
       "      <td>-0.047557</td>\n",
       "      <td>-0.139214</td>\n",
       "      <td>-0.181899</td>\n",
       "      <td>-0.017212</td>\n",
       "      <td>-0.339142</td>\n",
       "      <td>-0.189388</td>\n",
       "      <td>-0.077236</td>\n",
       "      <td>-0.052552</td>\n",
       "      <td>-0.07514</td>\n",
       "      <td>-0.162126</td>\n",
       "      <td>0.033690</td>\n",
       "    </tr>\n",
       "    <tr>\n",
       "      <th>1305</th>\n",
       "      <td>-0.079805</td>\n",
       "      <td>0.187122</td>\n",
       "      <td>-0.206974</td>\n",
       "      <td>-0.138297</td>\n",
       "      <td>-0.174810</td>\n",
       "      <td>-0.047557</td>\n",
       "      <td>-0.139214</td>\n",
       "      <td>-0.181899</td>\n",
       "      <td>0.012377</td>\n",
       "      <td>-0.376908</td>\n",
       "      <td>-0.189388</td>\n",
       "      <td>-0.077236</td>\n",
       "      <td>-0.052552</td>\n",
       "      <td>-0.07514</td>\n",
       "      <td>-0.162126</td>\n",
       "      <td>0.031813</td>\n",
       "    </tr>\n",
       "    <tr>\n",
       "      <th>1306</th>\n",
       "      <td>-0.079805</td>\n",
       "      <td>1.265342</td>\n",
       "      <td>-0.206974</td>\n",
       "      <td>-0.138297</td>\n",
       "      <td>-0.174810</td>\n",
       "      <td>-0.047557</td>\n",
       "      <td>-0.139214</td>\n",
       "      <td>-0.181899</td>\n",
       "      <td>-0.003827</td>\n",
       "      <td>-0.363697</td>\n",
       "      <td>-0.189388</td>\n",
       "      <td>-0.077236</td>\n",
       "      <td>-0.052552</td>\n",
       "      <td>-0.07514</td>\n",
       "      <td>-0.162126</td>\n",
       "      <td>-0.140930</td>\n",
       "    </tr>\n",
       "    <tr>\n",
       "      <th>1307</th>\n",
       "      <td>-0.079805</td>\n",
       "      <td>0.726232</td>\n",
       "      <td>-0.206974</td>\n",
       "      <td>-0.138297</td>\n",
       "      <td>-0.174810</td>\n",
       "      <td>-0.047557</td>\n",
       "      <td>-0.139214</td>\n",
       "      <td>-0.181899</td>\n",
       "      <td>-0.012628</td>\n",
       "      <td>-0.337751</td>\n",
       "      <td>-0.189388</td>\n",
       "      <td>-0.077236</td>\n",
       "      <td>-0.052552</td>\n",
       "      <td>-0.07514</td>\n",
       "      <td>-0.162126</td>\n",
       "      <td>0.082877</td>\n",
       "    </tr>\n",
       "  </tbody>\n",
       "</table>\n",
       "<p>1308 rows × 16 columns</p>\n",
       "</div>"
      ],
      "text/plain": [
       "      AirTankers  ArchiveYear  CrewsInvolved    Dozers   Engines  Fatalities  \\\n",
       "0      -0.079805    -1.969318       0.731945 -0.138297  0.680709   -0.047557   \n",
       "1      -0.079805     0.726232      -0.206974 -0.138297 -0.174810   -0.047557   \n",
       "2      -0.079805     0.187122      -0.206974 -0.138297 -0.174810   -0.047557   \n",
       "3      -0.079805     0.187122      -0.206974 -0.138297 -0.174810   -0.047557   \n",
       "4      -0.079805     0.726232      -0.206974 -0.138297 -0.174810   -0.047557   \n",
       "...          ...          ...            ...       ...       ...         ...   \n",
       "1303   -0.079805     0.726232      -0.206974 -0.138297 -0.174810   -0.047557   \n",
       "1304   -0.079805     0.726232      -0.206974 -0.138297 -0.174810   -0.047557   \n",
       "1305   -0.079805     0.187122      -0.206974 -0.138297 -0.174810   -0.047557   \n",
       "1306   -0.079805     1.265342      -0.206974 -0.138297 -0.174810   -0.047557   \n",
       "1307   -0.079805     0.726232      -0.206974 -0.138297 -0.174810   -0.047557   \n",
       "\n",
       "      Helicopters  Injuries  Latitude  Longitude  PersonnelInvolved  \\\n",
       "0       -0.139214 -0.181899  0.000627  -0.376635           0.454752   \n",
       "1       -0.139214 -0.181899  0.010607  -0.317999          -0.189388   \n",
       "2       -0.139214 -0.181899 -0.029773  -0.244078          -0.189388   \n",
       "3       -0.139214 -0.181899  0.009704  -0.372928          -0.189388   \n",
       "4       -0.139214 -0.181899  0.012547  -0.375663          -0.189388   \n",
       "...           ...       ...       ...        ...                ...   \n",
       "1303    -0.139214 -0.181899 -0.012782  -0.344788          -0.189388   \n",
       "1304    -0.139214 -0.181899 -0.017212  -0.339142          -0.189388   \n",
       "1305    -0.139214 -0.181899  0.012377  -0.376908          -0.189388   \n",
       "1306    -0.139214 -0.181899 -0.003827  -0.363697          -0.189388   \n",
       "1307    -0.139214 -0.181899 -0.012628  -0.337751          -0.189388   \n",
       "\n",
       "      StructuresDamaged  StructuresDestroyed  StructuresThreatened  \\\n",
       "0             -0.077236            -0.050739              -0.07514   \n",
       "1             -0.077236            -0.052552              -0.07514   \n",
       "2             -0.077236            -0.052552              -0.07514   \n",
       "3             -0.077236            -0.052552              -0.07514   \n",
       "4             -0.077236            -0.009041              -0.07514   \n",
       "...                 ...                  ...                   ...   \n",
       "1303          -0.077236            -0.052552              -0.07514   \n",
       "1304          -0.077236            -0.052552              -0.07514   \n",
       "1305          -0.077236            -0.052552              -0.07514   \n",
       "1306          -0.077236            -0.052552              -0.07514   \n",
       "1307          -0.077236            -0.052552              -0.07514   \n",
       "\n",
       "      WaterTenders  FireTime  \n",
       "0         0.456128 -0.139009  \n",
       "1        -0.162126  0.123858  \n",
       "2        -0.162126  0.124688  \n",
       "3        -0.162126  0.041066  \n",
       "4        -0.162126  0.063193  \n",
       "...            ...       ...  \n",
       "1303     -0.162126 -0.022873  \n",
       "1304     -0.162126  0.033690  \n",
       "1305     -0.162126  0.031813  \n",
       "1306     -0.162126 -0.140930  \n",
       "1307     -0.162126  0.082877  \n",
       "\n",
       "[1308 rows x 16 columns]"
      ]
     },
     "execution_count": 5,
     "metadata": {},
     "output_type": "execute_result"
    }
   ],
   "source": [
    "#scaling data to be processed \n",
    "from sklearn.preprocessing import StandardScaler\n",
    "s = StandardScaler()\n",
    "scaled_data_cali = pd.DataFrame(s.fit_transform(X_train_cali))\n",
    "X_test_s_cali = pd.DataFrame(s.transform(X_test_cali), columns=X_test_cali.columns)\n",
    "scaled_data_cali.columns = X_train_cali.columns\n",
    "scaled_data_cali"
   ]
  },
  {
   "cell_type": "code",
   "execution_count": 6,
   "metadata": {},
   "outputs": [
    {
     "data": {
      "text/html": [
       "<div>\n",
       "<style scoped>\n",
       "    .dataframe tbody tr th:only-of-type {\n",
       "        vertical-align: middle;\n",
       "    }\n",
       "\n",
       "    .dataframe tbody tr th {\n",
       "        vertical-align: top;\n",
       "    }\n",
       "\n",
       "    .dataframe thead th {\n",
       "        text-align: right;\n",
       "    }\n",
       "</style>\n",
       "<table border=\"1\" class=\"dataframe\">\n",
       "  <thead>\n",
       "    <tr style=\"text-align: right;\">\n",
       "      <th></th>\n",
       "      <th>AcresBurned</th>\n",
       "    </tr>\n",
       "  </thead>\n",
       "  <tbody>\n",
       "    <tr>\n",
       "      <th>63</th>\n",
       "      <td>190.0</td>\n",
       "    </tr>\n",
       "    <tr>\n",
       "      <th>1316</th>\n",
       "      <td>20.0</td>\n",
       "    </tr>\n",
       "    <tr>\n",
       "      <th>1018</th>\n",
       "      <td>12.0</td>\n",
       "    </tr>\n",
       "    <tr>\n",
       "      <th>1046</th>\n",
       "      <td>0.0</td>\n",
       "    </tr>\n",
       "    <tr>\n",
       "      <th>1149</th>\n",
       "      <td>268.0</td>\n",
       "    </tr>\n",
       "    <tr>\n",
       "      <th>...</th>\n",
       "      <td>...</td>\n",
       "    </tr>\n",
       "    <tr>\n",
       "      <th>1130</th>\n",
       "      <td>400.0</td>\n",
       "    </tr>\n",
       "    <tr>\n",
       "      <th>1294</th>\n",
       "      <td>30.0</td>\n",
       "    </tr>\n",
       "    <tr>\n",
       "      <th>860</th>\n",
       "      <td>57.0</td>\n",
       "    </tr>\n",
       "    <tr>\n",
       "      <th>1459</th>\n",
       "      <td>240.0</td>\n",
       "    </tr>\n",
       "    <tr>\n",
       "      <th>1126</th>\n",
       "      <td>513.0</td>\n",
       "    </tr>\n",
       "  </tbody>\n",
       "</table>\n",
       "<p>1237 rows × 1 columns</p>\n",
       "</div>"
      ],
      "text/plain": [
       "      AcresBurned\n",
       "63          190.0\n",
       "1316         20.0\n",
       "1018         12.0\n",
       "1046          0.0\n",
       "1149        268.0\n",
       "...           ...\n",
       "1130        400.0\n",
       "1294         30.0\n",
       "860          57.0\n",
       "1459        240.0\n",
       "1126        513.0\n",
       "\n",
       "[1237 rows x 1 columns]"
      ]
     },
     "execution_count": 6,
     "metadata": {},
     "output_type": "execute_result"
    }
   ],
   "source": [
    "# Getting rid of outliers\n",
    "scaled_data_cali[scaled_data_cali >= 3] = np.nan\n",
    "scaled_data_cali[scaled_data_cali <= -3] = np.nan\n",
    "scaled_data_cali.dropna(how = 'any', axis = 'rows', inplace = True)\n",
    "# trimming y_train rows to match the number of rows on feature matrix\n",
    "list = []\n",
    "list = scaled_data_cali.index\n",
    "y_train_cali = pd.DataFrame(y_train_cali)\n",
    "y_train_nm_cali = pd.DataFrame(y_train_cali)\n",
    "y_train_cali = y_train_cali.iloc[list, :]\n",
    "scaled_data_cali\n",
    "y_train_cali"
   ]
  },
  {
   "cell_type": "code",
   "execution_count": 7,
   "metadata": {},
   "outputs": [
    {
     "name": "stdout",
     "output_type": "stream",
     "text": [
      "AirTankers\n",
      "Skew : 11.42\n"
     ]
    },
    {
     "data": {
      "image/png": "[encoded data removed]",
      "text/plain": [
       "<Figure size 288x288 with 1 Axes>"
      ]
     },
     "metadata": {
      "needs_background": "light"
     },
     "output_type": "display_data"
    },
    {
     "name": "stdout",
     "output_type": "stream",
     "text": [
      "ArchiveYear\n",
      "Skew : -0.65\n"
     ]
    },
    {
     "data": {
      "image/png": "[encoded data removed]",
      "text/plain": [
       "<Figure size 288x288 with 1 Axes>"
      ]
     },
     "metadata": {
      "needs_background": "light"
     },
     "output_type": "display_data"
    },
    {
     "name": "stdout",
     "output_type": "stream",
     "text": [
      "CrewsInvolved\n",
      "Skew : 5.89\n"
     ]
    },
    {
     "data": {
      "image/png": "[encoded data removed]",
      "text/plain": [
       "<Figure size 288x288 with 1 Axes>"
      ]
     },
     "metadata": {
      "needs_background": "light"
     },
     "output_type": "display_data"
    },
    {
     "name": "stdout",
     "output_type": "stream",
     "text": [
      "Dozers\n",
      "Skew : 10.31\n"
     ]
    },
    {
     "data": {
      "image/png": "[encoded data removed]",
      "text/plain": [
       "<Figure size 288x288 with 1 Axes>"
      ]
     },
     "metadata": {
      "needs_background": "light"
     },
     "output_type": "display_data"
    },
    {
     "name": "stdout",
     "output_type": "stream",
     "text": [
      "Engines\n",
      "Skew : 6.2\n"
     ]
    },
    {
     "data": {
      "image/png": "[encoded data removed]",
      "text/plain": [
       "<Figure size 288x288 with 1 Axes>"
      ]
     },
     "metadata": {
      "needs_background": "light"
     },
     "output_type": "display_data"
    },
    {
     "name": "stdout",
     "output_type": "stream",
     "text": [
      "Fatalities\n",
      "Skew : 28.29\n"
     ]
    },
    {
     "data": {
      "image/png": "[encoded data removed]",
      "text/plain": [
       "<Figure size 288x288 with 1 Axes>"
      ]
     },
     "metadata": {
      "needs_background": "light"
     },
     "output_type": "display_data"
    },
    {
     "name": "stdout",
     "output_type": "stream",
     "text": [
      "Helicopters\n",
      "Skew : 10.16\n"
     ]
    },
    {
     "data": {
      "image/png": "[encoded data removed]",
      "text/plain": [
       "<Figure size 288x288 with 1 Axes>"
      ]
     },
     "metadata": {
      "needs_background": "light"
     },
     "output_type": "display_data"
    },
    {
     "name": "stdout",
     "output_type": "stream",
     "text": [
      "Injuries\n",
      "Skew : 5.61\n"
     ]
    },
    {
     "data": {
      "image/png": "[encoded data removed]",
      "text/plain": [
       "<Figure size 288x288 with 1 Axes>"
      ]
     },
     "metadata": {
      "needs_background": "light"
     },
     "output_type": "display_data"
    },
    {
     "name": "stdout",
     "output_type": "stream",
     "text": [
      "Latitude\n",
      "Skew : -2.58\n"
     ]
    },
    {
     "data": {
      "image/png": "[encoded data removed]",
      "text/plain": [
       "<Figure size 288x288 with 1 Axes>"
      ]
     },
     "metadata": {
      "needs_background": "light"
     },
     "output_type": "display_data"
    },
    {
     "name": "stdout",
     "output_type": "stream",
     "text": [
      "Longitude\n",
      "Skew : 2.84\n"
     ]
    },
    {
     "data": {
      "image/png": "[encoded data removed]",
      "text/plain": [
       "<Figure size 288x288 with 1 Axes>"
      ]
     },
     "metadata": {
      "needs_background": "light"
     },
     "output_type": "display_data"
    },
    {
     "name": "stdout",
     "output_type": "stream",
     "text": [
      "PersonnelInvolved\n",
      "Skew : 6.37\n"
     ]
    },
    {
     "data": {
      "image/png": "[encoded data removed]",
      "text/plain": [
       "<Figure size 288x288 with 1 Axes>"
      ]
     },
     "metadata": {
      "needs_background": "light"
     },
     "output_type": "display_data"
    },
    {
     "name": "stdout",
     "output_type": "stream",
     "text": [
      "StructuresDamaged\n",
      "Skew : 15.39\n"
     ]
    },
    {
     "data": {
      "image/png": "[encoded data removed]",
      "text/plain": [
       "<Figure size 288x288 with 1 Axes>"
      ]
     },
     "metadata": {
      "needs_background": "light"
     },
     "output_type": "display_data"
    },
    {
     "name": "stdout",
     "output_type": "stream",
     "text": [
      "StructuresDestroyed\n",
      "Skew : 16.14\n"
     ]
    },
    {
     "data": {
      "image/png": "[encoded data removed]",
      "text/plain": [
       "<Figure size 288x288 with 1 Axes>"
      ]
     },
     "metadata": {
      "needs_background": "light"
     },
     "output_type": "display_data"
    },
    {
     "name": "stdout",
     "output_type": "stream",
     "text": [
      "StructuresThreatened\n",
      "Skew : 31.88\n"
     ]
    },
    {
     "data": {
      "image/png": "[encoded data removed]",
      "text/plain": [
       "<Figure size 288x288 with 1 Axes>"
      ]
     },
     "metadata": {
      "needs_background": "light"
     },
     "output_type": "display_data"
    },
    {
     "name": "stdout",
     "output_type": "stream",
     "text": [
      "WaterTenders\n",
      "Skew : 6.92\n"
     ]
    },
    {
     "data": {
      "image/png": "[encoded data removed]",
      "text/plain": [
       "<Figure size 288x288 with 1 Axes>"
      ]
     },
     "metadata": {
      "needs_background": "light"
     },
     "output_type": "display_data"
    },
    {
     "name": "stdout",
     "output_type": "stream",
     "text": [
      "FireTime\n",
      "Skew : 0.72\n"
     ]
    },
    {
     "data": {
      "image/png": "[encoded data removed]",
      "text/plain": [
       "<Figure size 288x288 with 1 Axes>"
      ]
     },
     "metadata": {
      "needs_background": "light"
     },
     "output_type": "display_data"
    }
   ],
   "source": [
    "# Checking data for skew\n",
    "import matplotlib.pyplot as plt\n",
    "for col in scaled_data_cali:\n",
    "    print(col)\n",
    "    print('Skew :',round(scaled_data_cali[col].skew(),2))\n",
    "    plt.figure(figsize = (4,4))\n",
    "    scaled_data_cali[col].plot.hist(xlabel = col, density = True)\n",
    "    plt.show()"
   ]
  },
  {
   "cell_type": "code",
   "execution_count": 8,
   "metadata": {},
   "outputs": [
    {
     "data": {
      "image/png": "[encoded data removed]",
      "text/plain": [
       "<Figure size 432x288 with 2 Axes>"
      ]
     },
     "metadata": {
      "needs_background": "light"
     },
     "output_type": "display_data"
    },
    {
     "data": {
      "text/html": [
       "<div>\n",
       "<style scoped>\n",
       "    .dataframe tbody tr th:only-of-type {\n",
       "        vertical-align: middle;\n",
       "    }\n",
       "\n",
       "    .dataframe tbody tr th {\n",
       "        vertical-align: top;\n",
       "    }\n",
       "\n",
       "    .dataframe thead th {\n",
       "        text-align: right;\n",
       "    }\n",
       "</style>\n",
       "<table border=\"1\" class=\"dataframe\">\n",
       "  <thead>\n",
       "    <tr style=\"text-align: right;\">\n",
       "      <th></th>\n",
       "      <th>AirTankers</th>\n",
       "      <th>ArchiveYear</th>\n",
       "      <th>CrewsInvolved</th>\n",
       "      <th>Dozers</th>\n",
       "      <th>Fatalities</th>\n",
       "      <th>Helicopters</th>\n",
       "      <th>Injuries</th>\n",
       "      <th>Latitude</th>\n",
       "      <th>Longitude</th>\n",
       "      <th>StructuresDamaged</th>\n",
       "      <th>StructuresDestroyed</th>\n",
       "      <th>StructuresThreatened</th>\n",
       "      <th>WaterTenders</th>\n",
       "      <th>FireTime</th>\n",
       "    </tr>\n",
       "  </thead>\n",
       "  <tbody>\n",
       "    <tr>\n",
       "      <th>0</th>\n",
       "      <td>-0.079805</td>\n",
       "      <td>-1.969318</td>\n",
       "      <td>0.731945</td>\n",
       "      <td>-0.138297</td>\n",
       "      <td>-0.047557</td>\n",
       "      <td>-0.139214</td>\n",
       "      <td>-0.181899</td>\n",
       "      <td>0.000627</td>\n",
       "      <td>-0.376635</td>\n",
       "      <td>-0.077236</td>\n",
       "      <td>-0.050739</td>\n",
       "      <td>-0.07514</td>\n",
       "      <td>0.456128</td>\n",
       "      <td>-0.139009</td>\n",
       "    </tr>\n",
       "    <tr>\n",
       "      <th>1</th>\n",
       "      <td>-0.079805</td>\n",
       "      <td>0.726232</td>\n",
       "      <td>-0.206974</td>\n",
       "      <td>-0.138297</td>\n",
       "      <td>-0.047557</td>\n",
       "      <td>-0.139214</td>\n",
       "      <td>-0.181899</td>\n",
       "      <td>0.010607</td>\n",
       "      <td>-0.317999</td>\n",
       "      <td>-0.077236</td>\n",
       "      <td>-0.052552</td>\n",
       "      <td>-0.07514</td>\n",
       "      <td>-0.162126</td>\n",
       "      <td>0.123858</td>\n",
       "    </tr>\n",
       "    <tr>\n",
       "      <th>2</th>\n",
       "      <td>-0.079805</td>\n",
       "      <td>0.187122</td>\n",
       "      <td>-0.206974</td>\n",
       "      <td>-0.138297</td>\n",
       "      <td>-0.047557</td>\n",
       "      <td>-0.139214</td>\n",
       "      <td>-0.181899</td>\n",
       "      <td>-0.029773</td>\n",
       "      <td>-0.244078</td>\n",
       "      <td>-0.077236</td>\n",
       "      <td>-0.052552</td>\n",
       "      <td>-0.07514</td>\n",
       "      <td>-0.162126</td>\n",
       "      <td>0.124688</td>\n",
       "    </tr>\n",
       "    <tr>\n",
       "      <th>3</th>\n",
       "      <td>-0.079805</td>\n",
       "      <td>0.187122</td>\n",
       "      <td>-0.206974</td>\n",
       "      <td>-0.138297</td>\n",
       "      <td>-0.047557</td>\n",
       "      <td>-0.139214</td>\n",
       "      <td>-0.181899</td>\n",
       "      <td>0.009704</td>\n",
       "      <td>-0.372928</td>\n",
       "      <td>-0.077236</td>\n",
       "      <td>-0.052552</td>\n",
       "      <td>-0.07514</td>\n",
       "      <td>-0.162126</td>\n",
       "      <td>0.041066</td>\n",
       "    </tr>\n",
       "    <tr>\n",
       "      <th>4</th>\n",
       "      <td>-0.079805</td>\n",
       "      <td>0.726232</td>\n",
       "      <td>-0.206974</td>\n",
       "      <td>-0.138297</td>\n",
       "      <td>-0.047557</td>\n",
       "      <td>-0.139214</td>\n",
       "      <td>-0.181899</td>\n",
       "      <td>0.012547</td>\n",
       "      <td>-0.375663</td>\n",
       "      <td>-0.077236</td>\n",
       "      <td>-0.009041</td>\n",
       "      <td>-0.07514</td>\n",
       "      <td>-0.162126</td>\n",
       "      <td>0.063193</td>\n",
       "    </tr>\n",
       "    <tr>\n",
       "      <th>...</th>\n",
       "      <td>...</td>\n",
       "      <td>...</td>\n",
       "      <td>...</td>\n",
       "      <td>...</td>\n",
       "      <td>...</td>\n",
       "      <td>...</td>\n",
       "      <td>...</td>\n",
       "      <td>...</td>\n",
       "      <td>...</td>\n",
       "      <td>...</td>\n",
       "      <td>...</td>\n",
       "      <td>...</td>\n",
       "      <td>...</td>\n",
       "      <td>...</td>\n",
       "    </tr>\n",
       "    <tr>\n",
       "      <th>1303</th>\n",
       "      <td>-0.079805</td>\n",
       "      <td>0.726232</td>\n",
       "      <td>-0.206974</td>\n",
       "      <td>-0.138297</td>\n",
       "      <td>-0.047557</td>\n",
       "      <td>-0.139214</td>\n",
       "      <td>-0.181899</td>\n",
       "      <td>-0.012782</td>\n",
       "      <td>-0.344788</td>\n",
       "      <td>-0.077236</td>\n",
       "      <td>-0.052552</td>\n",
       "      <td>-0.07514</td>\n",
       "      <td>-0.162126</td>\n",
       "      <td>-0.022873</td>\n",
       "    </tr>\n",
       "    <tr>\n",
       "      <th>1304</th>\n",
       "      <td>-0.079805</td>\n",
       "      <td>0.726232</td>\n",
       "      <td>-0.206974</td>\n",
       "      <td>-0.138297</td>\n",
       "      <td>-0.047557</td>\n",
       "      <td>-0.139214</td>\n",
       "      <td>-0.181899</td>\n",
       "      <td>-0.017212</td>\n",
       "      <td>-0.339142</td>\n",
       "      <td>-0.077236</td>\n",
       "      <td>-0.052552</td>\n",
       "      <td>-0.07514</td>\n",
       "      <td>-0.162126</td>\n",
       "      <td>0.033690</td>\n",
       "    </tr>\n",
       "    <tr>\n",
       "      <th>1305</th>\n",
       "      <td>-0.079805</td>\n",
       "      <td>0.187122</td>\n",
       "      <td>-0.206974</td>\n",
       "      <td>-0.138297</td>\n",
       "      <td>-0.047557</td>\n",
       "      <td>-0.139214</td>\n",
       "      <td>-0.181899</td>\n",
       "      <td>0.012377</td>\n",
       "      <td>-0.376908</td>\n",
       "      <td>-0.077236</td>\n",
       "      <td>-0.052552</td>\n",
       "      <td>-0.07514</td>\n",
       "      <td>-0.162126</td>\n",
       "      <td>0.031813</td>\n",
       "    </tr>\n",
       "    <tr>\n",
       "      <th>1306</th>\n",
       "      <td>-0.079805</td>\n",
       "      <td>1.265342</td>\n",
       "      <td>-0.206974</td>\n",
       "      <td>-0.138297</td>\n",
       "      <td>-0.047557</td>\n",
       "      <td>-0.139214</td>\n",
       "      <td>-0.181899</td>\n",
       "      <td>-0.003827</td>\n",
       "      <td>-0.363697</td>\n",
       "      <td>-0.077236</td>\n",
       "      <td>-0.052552</td>\n",
       "      <td>-0.07514</td>\n",
       "      <td>-0.162126</td>\n",
       "      <td>-0.140930</td>\n",
       "    </tr>\n",
       "    <tr>\n",
       "      <th>1307</th>\n",
       "      <td>-0.079805</td>\n",
       "      <td>0.726232</td>\n",
       "      <td>-0.206974</td>\n",
       "      <td>-0.138297</td>\n",
       "      <td>-0.047557</td>\n",
       "      <td>-0.139214</td>\n",
       "      <td>-0.181899</td>\n",
       "      <td>-0.012628</td>\n",
       "      <td>-0.337751</td>\n",
       "      <td>-0.077236</td>\n",
       "      <td>-0.052552</td>\n",
       "      <td>-0.07514</td>\n",
       "      <td>-0.162126</td>\n",
       "      <td>0.082877</td>\n",
       "    </tr>\n",
       "  </tbody>\n",
       "</table>\n",
       "<p>1237 rows × 14 columns</p>\n",
       "</div>"
      ],
      "text/plain": [
       "      AirTankers  ArchiveYear  CrewsInvolved    Dozers  Fatalities  \\\n",
       "0      -0.079805    -1.969318       0.731945 -0.138297   -0.047557   \n",
       "1      -0.079805     0.726232      -0.206974 -0.138297   -0.047557   \n",
       "2      -0.079805     0.187122      -0.206974 -0.138297   -0.047557   \n",
       "3      -0.079805     0.187122      -0.206974 -0.138297   -0.047557   \n",
       "4      -0.079805     0.726232      -0.206974 -0.138297   -0.047557   \n",
       "...          ...          ...            ...       ...         ...   \n",
       "1303   -0.079805     0.726232      -0.206974 -0.138297   -0.047557   \n",
       "1304   -0.079805     0.726232      -0.206974 -0.138297   -0.047557   \n",
       "1305   -0.079805     0.187122      -0.206974 -0.138297   -0.047557   \n",
       "1306   -0.079805     1.265342      -0.206974 -0.138297   -0.047557   \n",
       "1307   -0.079805     0.726232      -0.206974 -0.138297   -0.047557   \n",
       "\n",
       "      Helicopters  Injuries  Latitude  Longitude  StructuresDamaged  \\\n",
       "0       -0.139214 -0.181899  0.000627  -0.376635          -0.077236   \n",
       "1       -0.139214 -0.181899  0.010607  -0.317999          -0.077236   \n",
       "2       -0.139214 -0.181899 -0.029773  -0.244078          -0.077236   \n",
       "3       -0.139214 -0.181899  0.009704  -0.372928          -0.077236   \n",
       "4       -0.139214 -0.181899  0.012547  -0.375663          -0.077236   \n",
       "...           ...       ...       ...        ...                ...   \n",
       "1303    -0.139214 -0.181899 -0.012782  -0.344788          -0.077236   \n",
       "1304    -0.139214 -0.181899 -0.017212  -0.339142          -0.077236   \n",
       "1305    -0.139214 -0.181899  0.012377  -0.376908          -0.077236   \n",
       "1306    -0.139214 -0.181899 -0.003827  -0.363697          -0.077236   \n",
       "1307    -0.139214 -0.181899 -0.012628  -0.337751          -0.077236   \n",
       "\n",
       "      StructuresDestroyed  StructuresThreatened  WaterTenders  FireTime  \n",
       "0               -0.050739              -0.07514      0.456128 -0.139009  \n",
       "1               -0.052552              -0.07514     -0.162126  0.123858  \n",
       "2               -0.052552              -0.07514     -0.162126  0.124688  \n",
       "3               -0.052552              -0.07514     -0.162126  0.041066  \n",
       "4               -0.009041              -0.07514     -0.162126  0.063193  \n",
       "...                   ...                   ...           ...       ...  \n",
       "1303            -0.052552              -0.07514     -0.162126 -0.022873  \n",
       "1304            -0.052552              -0.07514     -0.162126  0.033690  \n",
       "1305            -0.052552              -0.07514     -0.162126  0.031813  \n",
       "1306            -0.052552              -0.07514     -0.162126 -0.140930  \n",
       "1307            -0.052552              -0.07514     -0.162126  0.082877  \n",
       "\n",
       "[1237 rows x 14 columns]"
      ]
     },
     "execution_count": 8,
     "metadata": {},
     "output_type": "execute_result"
    }
   ],
   "source": [
    "# Checking for highly corellated data and removing accordingly\n",
    "import seaborn as sns\n",
    "sns.heatmap(scaled_data_cali.corr(), annot=True, fmt='0.2f')\n",
    "plt.show()\n",
    "corr = scaled_data_cali.corr()\n",
    "columns = np.full((corr.shape[0],), True, dtype=bool)\n",
    "for i in range(corr.shape[0]):\n",
    "    for j in range(i+1, corr.shape[0]):\n",
    "        if corr.iloc[i,j] >= 0.75:\n",
    "            if columns[j]:\n",
    "                columns[j] = False\n",
    "# Removing highly correlated columns\n",
    "selected_columns = scaled_data_cali.columns[columns]\n",
    "scaled_data_cali = scaled_data_cali[selected_columns]\n",
    "X_test_s_cali = X_test_s_cali[selected_columns]\n",
    "scaled_data_cali"
   ]
  },
  {
   "cell_type": "code",
   "execution_count": 9,
   "metadata": {},
   "outputs": [
    {
     "data": {
      "image/png": "[encoded data removed]",
      "text/plain": [
       "<Figure size 432x288 with 1 Axes>"
      ]
     },
     "metadata": {
      "needs_background": "light"
     },
     "output_type": "display_data"
    }
   ],
   "source": [
    "# PC on skew corrected data\n",
    "from sklearn.decomposition import PCA\n",
    "n=scaled_data_cali.shape[1]\n",
    "pca = PCA(n_components=n, random_state=1)\n",
    "data_pca1 = pd.DataFrame(pca.fit_transform(scaled_data_cali))\n",
    "exp_var = pca.explained_variance_ratio_\n",
    "pca_var_explain = pd.DataFrame({'pc': [str(i) for i in range(1,n+1)], 'cum_var': pca.explained_variance_ratio_.cumsum()})\n",
    "pca_var_explain.plot(kind = \"line\", x = \"pc\", \n",
    "                     y = \"cum_var\", \n",
    "                     legend = False, \n",
    "                     ylabel=\"cum_var\", \n",
    "                     marker = 'o', \n",
    "                     linestyle = '--')\n",
    "plt.show()"
   ]
  },
  {
   "cell_type": "code",
   "execution_count": 10,
   "metadata": {},
   "outputs": [],
   "source": [
    "# Random Forest Method to determine most important features. Will keep top 4 features based on the PCA analysis \n",
    "grid_search = {\n",
    "    'bootstrap': [True],\n",
    "    'max_depth': [80, 90, 100],\n",
    "    'max_features': [2, 3],\n",
    "    'min_samples_leaf': [3, 4, 5],\n",
    "    'min_samples_split': [8, 10, 12],\n",
    "    'n_estimators': [100, 500]\n",
    "}\n",
    "\n",
    "rf = RandomForestRegressor()\n",
    "grid_search = GridSearchCV(estimator = rf, param_grid = grid_search, \n",
    "                          cv = 3, n_jobs = -1, verbose = 0)\n",
    "grid_search.fit(scaled_data_cali, y_train_cali)\n",
    "rf_clf = RandomForestClassifier()\n",
    "preds = rf_clf.fit(scaled_data_cali, y_train_cali).predict_proba(X_test_s_cali) \n",
    "best_grid_search = grid_search.best_estimator_\n",
    "best_grid_search.feature_importances_\n",
    "from sklearn.inspection import permutation_importance\n",
    "\n",
    "perm_importance = permutation_importance(best_grid_search, X_test_s_cali, y_test_cali)\n",
    "sorted_idx = perm_importance.importances_mean.argsort()"
   ]
  },
  {
   "cell_type": "code",
   "execution_count": 11,
   "metadata": {},
   "outputs": [
    {
     "data": {
      "text/html": [
       "<div>\n",
       "<style scoped>\n",
       "    .dataframe tbody tr th:only-of-type {\n",
       "        vertical-align: middle;\n",
       "    }\n",
       "\n",
       "    .dataframe tbody tr th {\n",
       "        vertical-align: top;\n",
       "    }\n",
       "\n",
       "    .dataframe thead th {\n",
       "        text-align: right;\n",
       "    }\n",
       "</style>\n",
       "<table border=\"1\" class=\"dataframe\">\n",
       "  <thead>\n",
       "    <tr style=\"text-align: right;\">\n",
       "      <th></th>\n",
       "      <th>FireTime</th>\n",
       "      <th>Latitude</th>\n",
       "      <th>Longitude</th>\n",
       "      <th>StructuresThreatened</th>\n",
       "      <th>StructuresDestroyed</th>\n",
       "      <th>WaterTenders</th>\n",
       "    </tr>\n",
       "  </thead>\n",
       "  <tbody>\n",
       "    <tr>\n",
       "      <th>0</th>\n",
       "      <td>0.112293</td>\n",
       "      <td>-0.008737</td>\n",
       "      <td>-0.337515</td>\n",
       "      <td>-0.07514</td>\n",
       "      <td>-0.052552</td>\n",
       "      <td>-0.162126</td>\n",
       "    </tr>\n",
       "    <tr>\n",
       "      <th>1</th>\n",
       "      <td>-0.140930</td>\n",
       "      <td>-0.014111</td>\n",
       "      <td>-0.330388</td>\n",
       "      <td>-0.07514</td>\n",
       "      <td>-0.052552</td>\n",
       "      <td>-0.162126</td>\n",
       "    </tr>\n",
       "    <tr>\n",
       "      <th>2</th>\n",
       "      <td>0.041895</td>\n",
       "      <td>-0.003103</td>\n",
       "      <td>-0.331035</td>\n",
       "      <td>-0.07514</td>\n",
       "      <td>-0.052552</td>\n",
       "      <td>-0.162126</td>\n",
       "    </tr>\n",
       "    <tr>\n",
       "      <th>3</th>\n",
       "      <td>-0.139795</td>\n",
       "      <td>-0.253278</td>\n",
       "      <td>2.996768</td>\n",
       "      <td>-0.07514</td>\n",
       "      <td>-0.052552</td>\n",
       "      <td>-0.162126</td>\n",
       "    </tr>\n",
       "    <tr>\n",
       "      <th>4</th>\n",
       "      <td>-0.140930</td>\n",
       "      <td>-0.001597</td>\n",
       "      <td>-0.374820</td>\n",
       "      <td>-0.07514</td>\n",
       "      <td>-0.052552</td>\n",
       "      <td>-0.162126</td>\n",
       "    </tr>\n",
       "    <tr>\n",
       "      <th>...</th>\n",
       "      <td>...</td>\n",
       "      <td>...</td>\n",
       "      <td>...</td>\n",
       "      <td>...</td>\n",
       "      <td>...</td>\n",
       "      <td>...</td>\n",
       "    </tr>\n",
       "    <tr>\n",
       "      <th>323</th>\n",
       "      <td>0.047394</td>\n",
       "      <td>0.015477</td>\n",
       "      <td>-0.374525</td>\n",
       "      <td>-0.07514</td>\n",
       "      <td>-0.052552</td>\n",
       "      <td>-0.162126</td>\n",
       "    </tr>\n",
       "    <tr>\n",
       "      <th>324</th>\n",
       "      <td>-0.132419</td>\n",
       "      <td>-0.012683</td>\n",
       "      <td>-0.356737</td>\n",
       "      <td>-0.07514</td>\n",
       "      <td>-0.016293</td>\n",
       "      <td>-0.162126</td>\n",
       "    </tr>\n",
       "    <tr>\n",
       "      <th>325</th>\n",
       "      <td>-0.137133</td>\n",
       "      <td>0.021180</td>\n",
       "      <td>-0.337830</td>\n",
       "      <td>-0.07514</td>\n",
       "      <td>-0.052552</td>\n",
       "      <td>0.662213</td>\n",
       "    </tr>\n",
       "    <tr>\n",
       "      <th>326</th>\n",
       "      <td>-0.133729</td>\n",
       "      <td>-0.007419</td>\n",
       "      <td>-0.299767</td>\n",
       "      <td>-0.07514</td>\n",
       "      <td>-0.047113</td>\n",
       "      <td>0.250043</td>\n",
       "    </tr>\n",
       "    <tr>\n",
       "      <th>327</th>\n",
       "      <td>-0.094929</td>\n",
       "      <td>-0.025366</td>\n",
       "      <td>-0.273784</td>\n",
       "      <td>-0.07514</td>\n",
       "      <td>-0.041674</td>\n",
       "      <td>1.074383</td>\n",
       "    </tr>\n",
       "  </tbody>\n",
       "</table>\n",
       "<p>328 rows × 6 columns</p>\n",
       "</div>"
      ],
      "text/plain": [
       "     FireTime  Latitude  Longitude  StructuresThreatened  StructuresDestroyed  \\\n",
       "0    0.112293 -0.008737  -0.337515              -0.07514            -0.052552   \n",
       "1   -0.140930 -0.014111  -0.330388              -0.07514            -0.052552   \n",
       "2    0.041895 -0.003103  -0.331035              -0.07514            -0.052552   \n",
       "3   -0.139795 -0.253278   2.996768              -0.07514            -0.052552   \n",
       "4   -0.140930 -0.001597  -0.374820              -0.07514            -0.052552   \n",
       "..        ...       ...        ...                   ...                  ...   \n",
       "323  0.047394  0.015477  -0.374525              -0.07514            -0.052552   \n",
       "324 -0.132419 -0.012683  -0.356737              -0.07514            -0.016293   \n",
       "325 -0.137133  0.021180  -0.337830              -0.07514            -0.052552   \n",
       "326 -0.133729 -0.007419  -0.299767              -0.07514            -0.047113   \n",
       "327 -0.094929 -0.025366  -0.273784              -0.07514            -0.041674   \n",
       "\n",
       "     WaterTenders  \n",
       "0       -0.162126  \n",
       "1       -0.162126  \n",
       "2       -0.162126  \n",
       "3       -0.162126  \n",
       "4       -0.162126  \n",
       "..            ...  \n",
       "323     -0.162126  \n",
       "324     -0.162126  \n",
       "325      0.662213  \n",
       "326      0.250043  \n",
       "327      1.074383  \n",
       "\n",
       "[328 rows x 6 columns]"
      ]
     },
     "execution_count": 11,
     "metadata": {},
     "output_type": "execute_result"
    },
    {
     "data": {
      "image/png": "[encoded data removed]",
      "text/plain": [
       "<Figure size 432x288 with 1 Axes>"
      ]
     },
     "metadata": {
      "needs_background": "light"
     },
     "output_type": "display_data"
    }
   ],
   "source": [
    "# Plotting the feature importance graph using random forest method\n",
    "plt.barh(scaled_data_cali.columns, perm_importance.importances_mean[sorted_idx], color = \"orange\")\n",
    "plt.xlabel(\"Permutation Importance (from scikit-learn)\")\n",
    "selected_columns = [\n",
    "    'FireTime',\n",
    "    'Latitude',\n",
    "    'Longitude',\n",
    "    'StructuresThreatened',\n",
    "    'StructuresDestroyed',\n",
    "    'WaterTenders'\n",
    "]\n",
    "# removing the non highly important features. Keeping top 6 features as it proves important.\n",
    "scaled_data_cali_rf = scaled_data_cali[selected_columns].copy()\n",
    "x_test_cali_rf = X_test_s_cali[selected_columns].copy()\n",
    "x_test_cali_rf"
   ]
  },
  {
   "cell_type": "markdown",
   "metadata": {},
   "source": [
    "Now we move on to setting up our data set from portugal and finding the most important features. We will also use the same techniques as a bove to normalize and trim out unnecessary data."
   ]
  },
  {
   "cell_type": "code",
   "execution_count": 12,
   "metadata": {},
   "outputs": [
    {
     "name": "stdout",
     "output_type": "stream",
     "text": [
      "<class 'pandas.core.frame.DataFrame'>\n",
      "RangeIndex: 517 entries, 0 to 516\n",
      "Data columns (total 13 columns):\n",
      " #   Column  Non-Null Count  Dtype  \n",
      "---  ------  --------------  -----  \n",
      " 0   X       517 non-null    int64  \n",
      " 1   Y       517 non-null    int64  \n",
      " 2   month   517 non-null    object \n",
      " 3   day     517 non-null    object \n",
      " 4   FFMC    517 non-null    float64\n",
      " 5   DMC     517 non-null    float64\n",
      " 6   DC      517 non-null    float64\n",
      " 7   ISI     517 non-null    float64\n",
      " 8   temp    517 non-null    float64\n",
      " 9   RH      517 non-null    int64  \n",
      " 10  wind    517 non-null    float64\n",
      " 11  rain    517 non-null    float64\n",
      " 12  area    517 non-null    float64\n",
      "dtypes: float64(8), int64(3), object(2)\n",
      "memory usage: 52.6+ KB\n"
     ]
    }
   ],
   "source": [
    "portugal_fire_data = pd.read_csv('forestfires.csv')\n",
    "portugal_fire_data.info()"
   ]
  },
  {
   "cell_type": "code",
   "execution_count": 13,
   "metadata": {},
   "outputs": [
    {
     "name": "stdout",
     "output_type": "stream",
     "text": [
      "<class 'pandas.core.frame.DataFrame'>\n",
      "RangeIndex: 517 entries, 0 to 516\n",
      "Data columns (total 13 columns):\n",
      " #   Column  Non-Null Count  Dtype  \n",
      "---  ------  --------------  -----  \n",
      " 0   X       517 non-null    int64  \n",
      " 1   Y       517 non-null    int64  \n",
      " 2   month   517 non-null    int64  \n",
      " 3   day     517 non-null    int64  \n",
      " 4   FFMC    517 non-null    float64\n",
      " 5   DMC     517 non-null    float64\n",
      " 6   DC      517 non-null    float64\n",
      " 7   ISI     517 non-null    float64\n",
      " 8   temp    517 non-null    float64\n",
      " 9   RH      517 non-null    int64  \n",
      " 10  wind    517 non-null    float64\n",
      " 11  rain    517 non-null    float64\n",
      " 12  area    517 non-null    float64\n",
      "dtypes: float64(8), int64(5)\n",
      "memory usage: 52.6 KB\n"
     ]
    }
   ],
   "source": [
    "# Portugal Fire Analysis\n",
    "# Convert the month and week column to numerical values for model to parse.\n",
    "portugal_fire_data.month.replace(('jan','feb','mar','apr','may','jun','jul','aug','sep','oct','nov','dec'),(1,2,3,4,5,6,7,8,9,10,11,12), inplace=True)\n",
    "portugal_fire_data.replace(('mon','tue','wed','thu','fri','sat','sun'),(1,2,3,4,5,6,7), inplace=True)\n",
    "portugal_fire_data.info()"
   ]
  },
  {
   "cell_type": "code",
   "execution_count": 14,
   "metadata": {},
   "outputs": [
    {
     "data": {
      "text/plain": [
       "329     3.33\n",
       "173     3.07\n",
       "272     3.09\n",
       "497    14.68\n",
       "182     6.38\n",
       "       ...  \n",
       "71      0.00\n",
       "106     0.00\n",
       "270     0.52\n",
       "435     0.00\n",
       "102     0.00\n",
       "Name: area, Length: 413, dtype: float64"
      ]
     },
     "execution_count": 14,
     "metadata": {},
     "output_type": "execute_result"
    }
   ],
   "source": [
    "# splitting into train and test\n",
    "X_port = portugal_fire_data.drop('area', axis=1)\n",
    "y_port = portugal_fire_data['area']\n",
    "X_train_port, X_test_port, y_train_port, y_test_port = train_test_split(X_port, y_port, test_size=.20, random_state = 42)\n",
    "y_train_port"
   ]
  },
  {
   "cell_type": "code",
   "execution_count": 15,
   "metadata": {},
   "outputs": [],
   "source": [
    "# Scaling data to be processed\n",
    "s = StandardScaler()\n",
    "scaled_data_port = pd.DataFrame(s.fit_transform(X_train_port))\n",
    "X_test_s_port = pd.DataFrame(s.transform(X_test_port), columns=X_test_port.columns)\n",
    "scaled_data_port.columns = X_train_port.columns\n",
    "scaled_data_port\n",
    "X_test_nm_port = X_test_s_port"
   ]
  },
  {
   "cell_type": "code",
   "execution_count": 16,
   "metadata": {},
   "outputs": [
    {
     "data": {
      "text/html": [
       "<div>\n",
       "<style scoped>\n",
       "    .dataframe tbody tr th:only-of-type {\n",
       "        vertical-align: middle;\n",
       "    }\n",
       "\n",
       "    .dataframe tbody tr th {\n",
       "        vertical-align: top;\n",
       "    }\n",
       "\n",
       "    .dataframe thead th {\n",
       "        text-align: right;\n",
       "    }\n",
       "</style>\n",
       "<table border=\"1\" class=\"dataframe\">\n",
       "  <thead>\n",
       "    <tr style=\"text-align: right;\">\n",
       "      <th></th>\n",
       "      <th>X</th>\n",
       "      <th>Y</th>\n",
       "      <th>month</th>\n",
       "      <th>day</th>\n",
       "      <th>FFMC</th>\n",
       "      <th>DMC</th>\n",
       "      <th>DC</th>\n",
       "      <th>ISI</th>\n",
       "      <th>temp</th>\n",
       "      <th>RH</th>\n",
       "      <th>wind</th>\n",
       "      <th>rain</th>\n",
       "    </tr>\n",
       "  </thead>\n",
       "  <tbody>\n",
       "    <tr>\n",
       "      <th>0</th>\n",
       "      <td>-0.288472</td>\n",
       "      <td>-1.094859</td>\n",
       "      <td>0.669844</td>\n",
       "      <td>0.843134</td>\n",
       "      <td>0.280286</td>\n",
       "      <td>-0.150282</td>\n",
       "      <td>0.810272</td>\n",
       "      <td>-0.095838</td>\n",
       "      <td>0.797602</td>\n",
       "      <td>-1.059419</td>\n",
       "      <td>0.001631</td>\n",
       "      <td>-0.067817</td>\n",
       "    </tr>\n",
       "    <tr>\n",
       "      <th>1</th>\n",
       "      <td>-0.288472</td>\n",
       "      <td>-0.266696</td>\n",
       "      <td>0.669844</td>\n",
       "      <td>-1.532134</td>\n",
       "      <td>0.061652</td>\n",
       "      <td>0.217866</td>\n",
       "      <td>0.549136</td>\n",
       "      <td>-0.455434</td>\n",
       "      <td>-0.205272</td>\n",
       "      <td>-0.335215</td>\n",
       "      <td>-1.008923</td>\n",
       "      <td>-0.067817</td>\n",
       "    </tr>\n",
       "    <tr>\n",
       "      <th>2</th>\n",
       "      <td>-1.161285</td>\n",
       "      <td>0.561466</td>\n",
       "      <td>0.230026</td>\n",
       "      <td>-1.057080</td>\n",
       "      <td>0.263468</td>\n",
       "      <td>0.614919</td>\n",
       "      <td>0.435442</td>\n",
       "      <td>1.419602</td>\n",
       "      <td>0.227001</td>\n",
       "      <td>0.147588</td>\n",
       "      <td>0.001631</td>\n",
       "      <td>-0.067817</td>\n",
       "    </tr>\n",
       "    <tr>\n",
       "      <th>3</th>\n",
       "      <td>-0.724878</td>\n",
       "      <td>-0.266696</td>\n",
       "      <td>0.230026</td>\n",
       "      <td>-1.057080</td>\n",
       "      <td>0.936186</td>\n",
       "      <td>1.048482</td>\n",
       "      <td>0.487669</td>\n",
       "      <td>1.419602</td>\n",
       "      <td>2.319206</td>\n",
       "      <td>-1.059419</td>\n",
       "      <td>-1.008923</td>\n",
       "      <td>-0.067817</td>\n",
       "    </tr>\n",
       "    <tr>\n",
       "      <th>4</th>\n",
       "      <td>0.147934</td>\n",
       "      <td>-0.266696</td>\n",
       "      <td>-2.408881</td>\n",
       "      <td>1.318187</td>\n",
       "      <td>-0.627884</td>\n",
       "      <td>-1.469227</td>\n",
       "      <td>-2.014816</td>\n",
       "      <td>-1.251682</td>\n",
       "      <td>-1.121692</td>\n",
       "      <td>0.509690</td>\n",
       "      <td>-1.008923</td>\n",
       "      <td>-0.067817</td>\n",
       "    </tr>\n",
       "    <tr>\n",
       "      <th>...</th>\n",
       "      <td>...</td>\n",
       "      <td>...</td>\n",
       "      <td>...</td>\n",
       "      <td>...</td>\n",
       "      <td>...</td>\n",
       "      <td>...</td>\n",
       "      <td>...</td>\n",
       "      <td>...</td>\n",
       "      <td>...</td>\n",
       "      <td>...</td>\n",
       "      <td>...</td>\n",
       "      <td>...</td>\n",
       "    </tr>\n",
       "    <tr>\n",
       "      <th>408</th>\n",
       "      <td>-0.288472</td>\n",
       "      <td>0.561466</td>\n",
       "      <td>0.669844</td>\n",
       "      <td>0.368080</td>\n",
       "      <td>0.633463</td>\n",
       "      <td>-0.411941</td>\n",
       "      <td>0.572437</td>\n",
       "      <td>1.830569</td>\n",
       "      <td>-0.205272</td>\n",
       "      <td>-0.455916</td>\n",
       "      <td>-0.222936</td>\n",
       "      <td>-0.067817</td>\n",
       "    </tr>\n",
       "    <tr>\n",
       "      <th>409</th>\n",
       "      <td>-0.288472</td>\n",
       "      <td>0.561466</td>\n",
       "      <td>-1.969064</td>\n",
       "      <td>-0.106973</td>\n",
       "      <td>0.145742</td>\n",
       "      <td>-1.239514</td>\n",
       "      <td>-1.910361</td>\n",
       "      <td>-0.327007</td>\n",
       "      <td>-0.118818</td>\n",
       "      <td>-0.938719</td>\n",
       "      <td>-0.503646</td>\n",
       "      <td>-0.067817</td>\n",
       "    </tr>\n",
       "    <tr>\n",
       "      <th>410</th>\n",
       "      <td>-1.161285</td>\n",
       "      <td>-1.923022</td>\n",
       "      <td>0.230026</td>\n",
       "      <td>-1.057080</td>\n",
       "      <td>0.263468</td>\n",
       "      <td>0.614919</td>\n",
       "      <td>0.435442</td>\n",
       "      <td>1.419602</td>\n",
       "      <td>0.503656</td>\n",
       "      <td>0.690741</td>\n",
       "      <td>-0.503646</td>\n",
       "      <td>-0.067817</td>\n",
       "    </tr>\n",
       "    <tr>\n",
       "      <th>411</th>\n",
       "      <td>-1.161285</td>\n",
       "      <td>0.561466</td>\n",
       "      <td>-0.209792</td>\n",
       "      <td>0.843134</td>\n",
       "      <td>0.044834</td>\n",
       "      <td>-0.418026</td>\n",
       "      <td>-0.695879</td>\n",
       "      <td>-0.815030</td>\n",
       "      <td>0.849475</td>\n",
       "      <td>0.388990</td>\n",
       "      <td>-1.233490</td>\n",
       "      <td>-0.067817</td>\n",
       "    </tr>\n",
       "    <tr>\n",
       "      <th>412</th>\n",
       "      <td>-1.161285</td>\n",
       "      <td>-0.266696</td>\n",
       "      <td>0.230026</td>\n",
       "      <td>-1.057080</td>\n",
       "      <td>0.717552</td>\n",
       "      <td>-0.059006</td>\n",
       "      <td>0.390848</td>\n",
       "      <td>2.113108</td>\n",
       "      <td>0.209710</td>\n",
       "      <td>-0.274865</td>\n",
       "      <td>0.001631</td>\n",
       "      <td>-0.067817</td>\n",
       "    </tr>\n",
       "  </tbody>\n",
       "</table>\n",
       "<p>390 rows × 12 columns</p>\n",
       "</div>"
      ],
      "text/plain": [
       "            X         Y     month       day      FFMC       DMC        DC  \\\n",
       "0   -0.288472 -1.094859  0.669844  0.843134  0.280286 -0.150282  0.810272   \n",
       "1   -0.288472 -0.266696  0.669844 -1.532134  0.061652  0.217866  0.549136   \n",
       "2   -1.161285  0.561466  0.230026 -1.057080  0.263468  0.614919  0.435442   \n",
       "3   -0.724878 -0.266696  0.230026 -1.057080  0.936186  1.048482  0.487669   \n",
       "4    0.147934 -0.266696 -2.408881  1.318187 -0.627884 -1.469227 -2.014816   \n",
       "..        ...       ...       ...       ...       ...       ...       ...   \n",
       "408 -0.288472  0.561466  0.669844  0.368080  0.633463 -0.411941  0.572437   \n",
       "409 -0.288472  0.561466 -1.969064 -0.106973  0.145742 -1.239514 -1.910361   \n",
       "410 -1.161285 -1.923022  0.230026 -1.057080  0.263468  0.614919  0.435442   \n",
       "411 -1.161285  0.561466 -0.209792  0.843134  0.044834 -0.418026 -0.695879   \n",
       "412 -1.161285 -0.266696  0.230026 -1.057080  0.717552 -0.059006  0.390848   \n",
       "\n",
       "          ISI      temp        RH      wind      rain  \n",
       "0   -0.095838  0.797602 -1.059419  0.001631 -0.067817  \n",
       "1   -0.455434 -0.205272 -0.335215 -1.008923 -0.067817  \n",
       "2    1.419602  0.227001  0.147588  0.001631 -0.067817  \n",
       "3    1.419602  2.319206 -1.059419 -1.008923 -0.067817  \n",
       "4   -1.251682 -1.121692  0.509690 -1.008923 -0.067817  \n",
       "..        ...       ...       ...       ...       ...  \n",
       "408  1.830569 -0.205272 -0.455916 -0.222936 -0.067817  \n",
       "409 -0.327007 -0.118818 -0.938719 -0.503646 -0.067817  \n",
       "410  1.419602  0.503656  0.690741 -0.503646 -0.067817  \n",
       "411 -0.815030  0.849475  0.388990 -1.233490 -0.067817  \n",
       "412  2.113108  0.209710 -0.274865  0.001631 -0.067817  \n",
       "\n",
       "[390 rows x 12 columns]"
      ]
     },
     "execution_count": 16,
     "metadata": {},
     "output_type": "execute_result"
    }
   ],
   "source": [
    "# Getting rid of outliers\n",
    "scaled_data_port[scaled_data_port >= 3] = np.nan\n",
    "scaled_data_port[scaled_data_port <= -3] = np.nan\n",
    "scaled_data_port.dropna(how = 'any', axis = 'rows', inplace = True)\n",
    "# trimming y_train rows to match the number of rows on feature matrix\n",
    "list = []\n",
    "list = scaled_data_port.index\n",
    "y_train_port = pd.DataFrame(y_train_port)\n",
    "y_train_nm_port = pd.DataFrame(y_train_port)\n",
    "y_train_port = y_train_port.iloc[list, :]\n",
    "scaled_data_port"
   ]
  },
  {
   "cell_type": "code",
   "execution_count": 17,
   "metadata": {},
   "outputs": [
    {
     "name": "stdout",
     "output_type": "stream",
     "text": [
      "X\n",
      "Skew : 0.08\n"
     ]
    },
    {
     "data": {
      "image/png": "[encoded data removed]",
      "text/plain": [
       "<Figure size 288x288 with 1 Axes>"
      ]
     },
     "metadata": {
      "needs_background": "light"
     },
     "output_type": "display_data"
    },
    {
     "name": "stdout",
     "output_type": "stream",
     "text": [
      "Y\n",
      "Skew : -0.2\n"
     ]
    },
    {
     "data": {
      "image/png": "[encoded data removed]",
      "text/plain": [
       "<Figure size 288x288 with 1 Axes>"
      ]
     },
     "metadata": {
      "needs_background": "light"
     },
     "output_type": "display_data"
    },
    {
     "name": "stdout",
     "output_type": "stream",
     "text": [
      "month\n",
      "Skew : -1.3\n"
     ]
    },
    {
     "data": {
      "image/png": "[encoded data removed]",
      "text/plain": [
       "<Figure size 288x288 with 1 Axes>"
      ]
     },
     "metadata": {
      "needs_background": "light"
     },
     "output_type": "display_data"
    },
    {
     "name": "stdout",
     "output_type": "stream",
     "text": [
      "day\n",
      "Skew : -0.18\n"
     ]
    },
    {
     "data": {
      "image/png": "[encoded data removed]",
      "text/plain": [
       "<Figure size 288x288 with 1 Axes>"
      ]
     },
     "metadata": {
      "needs_background": "light"
     },
     "output_type": "display_data"
    },
    {
     "name": "stdout",
     "output_type": "stream",
     "text": [
      "FFMC\n",
      "Skew : -1.74\n"
     ]
    },
    {
     "data": {
      "image/png": "[encoded data removed]",
      "text/plain": [
       "<Figure size 288x288 with 1 Axes>"
      ]
     },
     "metadata": {
      "needs_background": "light"
     },
     "output_type": "display_data"
    },
    {
     "name": "stdout",
     "output_type": "stream",
     "text": [
      "DMC\n",
      "Skew : 0.6\n"
     ]
    },
    {
     "data": {
      "image/png": "[encoded data removed]",
      "text/plain": [
       "<Figure size 288x288 with 1 Axes>"
      ]
     },
     "metadata": {
      "needs_background": "light"
     },
     "output_type": "display_data"
    },
    {
     "name": "stdout",
     "output_type": "stream",
     "text": [
      "DC\n",
      "Skew : -1.18\n"
     ]
    },
    {
     "data": {
      "image/png": "[encoded data removed]",
      "text/plain": [
       "<Figure size 288x288 with 1 Axes>"
      ]
     },
     "metadata": {
      "needs_background": "light"
     },
     "output_type": "display_data"
    },
    {
     "name": "stdout",
     "output_type": "stream",
     "text": [
      "ISI\n",
      "Skew : 0.6\n"
     ]
    },
    {
     "data": {
      "image/png": "[encoded data removed]",
      "text/plain": [
       "<Figure size 288x288 with 1 Axes>"
      ]
     },
     "metadata": {
      "needs_background": "light"
     },
     "output_type": "display_data"
    },
    {
     "name": "stdout",
     "output_type": "stream",
     "text": [
      "temp\n",
      "Skew : -0.27\n"
     ]
    },
    {
     "data": {
      "image/png": "[encoded data removed]",
      "text/plain": [
       "<Figure size 288x288 with 1 Axes>"
      ]
     },
     "metadata": {
      "needs_background": "light"
     },
     "output_type": "display_data"
    },
    {
     "name": "stdout",
     "output_type": "stream",
     "text": [
      "RH\n",
      "Skew : 0.69\n"
     ]
    },
    {
     "data": {
      "image/png": "[encoded data removed]",
      "text/plain": [
       "<Figure size 288x288 with 1 Axes>"
      ]
     },
     "metadata": {
      "needs_background": "light"
     },
     "output_type": "display_data"
    },
    {
     "name": "stdout",
     "output_type": "stream",
     "text": [
      "wind\n",
      "Skew : 0.48\n"
     ]
    },
    {
     "data": {
      "image/png": "[encoded data removed]",
      "text/plain": [
       "<Figure size 288x288 with 1 Axes>"
      ]
     },
     "metadata": {
      "needs_background": "light"
     },
     "output_type": "display_data"
    },
    {
     "name": "stdout",
     "output_type": "stream",
     "text": [
      "rain\n",
      "Skew : 14.94\n"
     ]
    },
    {
     "data": {
      "image/png": "[encoded data removed]",
      "text/plain": [
       "<Figure size 288x288 with 1 Axes>"
      ]
     },
     "metadata": {
      "needs_background": "light"
     },
     "output_type": "display_data"
    }
   ],
   "source": [
    "# Checking data for skew\n",
    "import matplotlib.pyplot as plt\n",
    "for col in scaled_data_port:\n",
    "    print(col)\n",
    "    print('Skew :',round(scaled_data_port[col].skew(),2))\n",
    "    plt.figure(figsize = (4,4))\n",
    "    scaled_data_port[col].plot.hist(xlabel = col, density = True)\n",
    "    plt.show()"
   ]
  },
  {
   "cell_type": "code",
   "execution_count": 18,
   "metadata": {},
   "outputs": [
    {
     "data": {
      "image/png": "[encoded data removed]",
      "text/plain": [
       "<Figure size 432x288 with 2 Axes>"
      ]
     },
     "metadata": {
      "needs_background": "light"
     },
     "output_type": "display_data"
    },
    {
     "data": {
      "text/html": [
       "<div>\n",
       "<style scoped>\n",
       "    .dataframe tbody tr th:only-of-type {\n",
       "        vertical-align: middle;\n",
       "    }\n",
       "\n",
       "    .dataframe tbody tr th {\n",
       "        vertical-align: top;\n",
       "    }\n",
       "\n",
       "    .dataframe thead th {\n",
       "        text-align: right;\n",
       "    }\n",
       "</style>\n",
       "<table border=\"1\" class=\"dataframe\">\n",
       "  <thead>\n",
       "    <tr style=\"text-align: right;\">\n",
       "      <th></th>\n",
       "      <th>X</th>\n",
       "      <th>Y</th>\n",
       "      <th>month</th>\n",
       "      <th>day</th>\n",
       "      <th>FFMC</th>\n",
       "      <th>DMC</th>\n",
       "      <th>ISI</th>\n",
       "      <th>temp</th>\n",
       "      <th>RH</th>\n",
       "      <th>wind</th>\n",
       "      <th>rain</th>\n",
       "    </tr>\n",
       "  </thead>\n",
       "  <tbody>\n",
       "    <tr>\n",
       "      <th>0</th>\n",
       "      <td>-0.288472</td>\n",
       "      <td>-1.094859</td>\n",
       "      <td>0.669844</td>\n",
       "      <td>0.843134</td>\n",
       "      <td>0.280286</td>\n",
       "      <td>-0.150282</td>\n",
       "      <td>-0.095838</td>\n",
       "      <td>0.797602</td>\n",
       "      <td>-1.059419</td>\n",
       "      <td>0.001631</td>\n",
       "      <td>-0.067817</td>\n",
       "    </tr>\n",
       "    <tr>\n",
       "      <th>1</th>\n",
       "      <td>-0.288472</td>\n",
       "      <td>-0.266696</td>\n",
       "      <td>0.669844</td>\n",
       "      <td>-1.532134</td>\n",
       "      <td>0.061652</td>\n",
       "      <td>0.217866</td>\n",
       "      <td>-0.455434</td>\n",
       "      <td>-0.205272</td>\n",
       "      <td>-0.335215</td>\n",
       "      <td>-1.008923</td>\n",
       "      <td>-0.067817</td>\n",
       "    </tr>\n",
       "    <tr>\n",
       "      <th>2</th>\n",
       "      <td>-1.161285</td>\n",
       "      <td>0.561466</td>\n",
       "      <td>0.230026</td>\n",
       "      <td>-1.057080</td>\n",
       "      <td>0.263468</td>\n",
       "      <td>0.614919</td>\n",
       "      <td>1.419602</td>\n",
       "      <td>0.227001</td>\n",
       "      <td>0.147588</td>\n",
       "      <td>0.001631</td>\n",
       "      <td>-0.067817</td>\n",
       "    </tr>\n",
       "    <tr>\n",
       "      <th>3</th>\n",
       "      <td>-0.724878</td>\n",
       "      <td>-0.266696</td>\n",
       "      <td>0.230026</td>\n",
       "      <td>-1.057080</td>\n",
       "      <td>0.936186</td>\n",
       "      <td>1.048482</td>\n",
       "      <td>1.419602</td>\n",
       "      <td>2.319206</td>\n",
       "      <td>-1.059419</td>\n",
       "      <td>-1.008923</td>\n",
       "      <td>-0.067817</td>\n",
       "    </tr>\n",
       "    <tr>\n",
       "      <th>4</th>\n",
       "      <td>0.147934</td>\n",
       "      <td>-0.266696</td>\n",
       "      <td>-2.408881</td>\n",
       "      <td>1.318187</td>\n",
       "      <td>-0.627884</td>\n",
       "      <td>-1.469227</td>\n",
       "      <td>-1.251682</td>\n",
       "      <td>-1.121692</td>\n",
       "      <td>0.509690</td>\n",
       "      <td>-1.008923</td>\n",
       "      <td>-0.067817</td>\n",
       "    </tr>\n",
       "    <tr>\n",
       "      <th>...</th>\n",
       "      <td>...</td>\n",
       "      <td>...</td>\n",
       "      <td>...</td>\n",
       "      <td>...</td>\n",
       "      <td>...</td>\n",
       "      <td>...</td>\n",
       "      <td>...</td>\n",
       "      <td>...</td>\n",
       "      <td>...</td>\n",
       "      <td>...</td>\n",
       "      <td>...</td>\n",
       "    </tr>\n",
       "    <tr>\n",
       "      <th>408</th>\n",
       "      <td>-0.288472</td>\n",
       "      <td>0.561466</td>\n",
       "      <td>0.669844</td>\n",
       "      <td>0.368080</td>\n",
       "      <td>0.633463</td>\n",
       "      <td>-0.411941</td>\n",
       "      <td>1.830569</td>\n",
       "      <td>-0.205272</td>\n",
       "      <td>-0.455916</td>\n",
       "      <td>-0.222936</td>\n",
       "      <td>-0.067817</td>\n",
       "    </tr>\n",
       "    <tr>\n",
       "      <th>409</th>\n",
       "      <td>-0.288472</td>\n",
       "      <td>0.561466</td>\n",
       "      <td>-1.969064</td>\n",
       "      <td>-0.106973</td>\n",
       "      <td>0.145742</td>\n",
       "      <td>-1.239514</td>\n",
       "      <td>-0.327007</td>\n",
       "      <td>-0.118818</td>\n",
       "      <td>-0.938719</td>\n",
       "      <td>-0.503646</td>\n",
       "      <td>-0.067817</td>\n",
       "    </tr>\n",
       "    <tr>\n",
       "      <th>410</th>\n",
       "      <td>-1.161285</td>\n",
       "      <td>-1.923022</td>\n",
       "      <td>0.230026</td>\n",
       "      <td>-1.057080</td>\n",
       "      <td>0.263468</td>\n",
       "      <td>0.614919</td>\n",
       "      <td>1.419602</td>\n",
       "      <td>0.503656</td>\n",
       "      <td>0.690741</td>\n",
       "      <td>-0.503646</td>\n",
       "      <td>-0.067817</td>\n",
       "    </tr>\n",
       "    <tr>\n",
       "      <th>411</th>\n",
       "      <td>-1.161285</td>\n",
       "      <td>0.561466</td>\n",
       "      <td>-0.209792</td>\n",
       "      <td>0.843134</td>\n",
       "      <td>0.044834</td>\n",
       "      <td>-0.418026</td>\n",
       "      <td>-0.815030</td>\n",
       "      <td>0.849475</td>\n",
       "      <td>0.388990</td>\n",
       "      <td>-1.233490</td>\n",
       "      <td>-0.067817</td>\n",
       "    </tr>\n",
       "    <tr>\n",
       "      <th>412</th>\n",
       "      <td>-1.161285</td>\n",
       "      <td>-0.266696</td>\n",
       "      <td>0.230026</td>\n",
       "      <td>-1.057080</td>\n",
       "      <td>0.717552</td>\n",
       "      <td>-0.059006</td>\n",
       "      <td>2.113108</td>\n",
       "      <td>0.209710</td>\n",
       "      <td>-0.274865</td>\n",
       "      <td>0.001631</td>\n",
       "      <td>-0.067817</td>\n",
       "    </tr>\n",
       "  </tbody>\n",
       "</table>\n",
       "<p>390 rows × 11 columns</p>\n",
       "</div>"
      ],
      "text/plain": [
       "            X         Y     month       day      FFMC       DMC       ISI  \\\n",
       "0   -0.288472 -1.094859  0.669844  0.843134  0.280286 -0.150282 -0.095838   \n",
       "1   -0.288472 -0.266696  0.669844 -1.532134  0.061652  0.217866 -0.455434   \n",
       "2   -1.161285  0.561466  0.230026 -1.057080  0.263468  0.614919  1.419602   \n",
       "3   -0.724878 -0.266696  0.230026 -1.057080  0.936186  1.048482  1.419602   \n",
       "4    0.147934 -0.266696 -2.408881  1.318187 -0.627884 -1.469227 -1.251682   \n",
       "..        ...       ...       ...       ...       ...       ...       ...   \n",
       "408 -0.288472  0.561466  0.669844  0.368080  0.633463 -0.411941  1.830569   \n",
       "409 -0.288472  0.561466 -1.969064 -0.106973  0.145742 -1.239514 -0.327007   \n",
       "410 -1.161285 -1.923022  0.230026 -1.057080  0.263468  0.614919  1.419602   \n",
       "411 -1.161285  0.561466 -0.209792  0.843134  0.044834 -0.418026 -0.815030   \n",
       "412 -1.161285 -0.266696  0.230026 -1.057080  0.717552 -0.059006  2.113108   \n",
       "\n",
       "         temp        RH      wind      rain  \n",
       "0    0.797602 -1.059419  0.001631 -0.067817  \n",
       "1   -0.205272 -0.335215 -1.008923 -0.067817  \n",
       "2    0.227001  0.147588  0.001631 -0.067817  \n",
       "3    2.319206 -1.059419 -1.008923 -0.067817  \n",
       "4   -1.121692  0.509690 -1.008923 -0.067817  \n",
       "..        ...       ...       ...       ...  \n",
       "408 -0.205272 -0.455916 -0.222936 -0.067817  \n",
       "409 -0.118818 -0.938719 -0.503646 -0.067817  \n",
       "410  0.503656  0.690741 -0.503646 -0.067817  \n",
       "411  0.849475  0.388990 -1.233490 -0.067817  \n",
       "412  0.209710 -0.274865  0.001631 -0.067817  \n",
       "\n",
       "[390 rows x 11 columns]"
      ]
     },
     "execution_count": 18,
     "metadata": {},
     "output_type": "execute_result"
    }
   ],
   "source": [
    "# Checking for highly corellated data and removing accordingly\n",
    "sns.heatmap(scaled_data_port.corr(), annot=True, fmt='0.2f')\n",
    "plt.show()\n",
    "corr = scaled_data_port.corr()\n",
    "columns = np.full((corr.shape[0],), True, dtype=bool)\n",
    "for i in range(corr.shape[0]):\n",
    "    for j in range(i+1, corr.shape[0]):\n",
    "        if corr.iloc[i,j] >= 0.75:\n",
    "            if columns[j]:\n",
    "                columns[j] = False\n",
    "selected_columns = scaled_data_port.columns[columns]\n",
    "scaled_data_port = scaled_data_port[selected_columns]\n",
    "X_test_s_port = X_test_s_port[selected_columns]\n",
    "scaled_data_port"
   ]
  },
  {
   "cell_type": "code",
   "execution_count": 19,
   "metadata": {},
   "outputs": [],
   "source": [
    "# Creating a pipeline to normalize the data\n",
    "from sklearn.preprocessing import PowerTransformer\n",
    "from sklearn.pipeline import Pipeline\n",
    "proc_pipe = Pipeline(steps = [(\"yeo-jhonson\", PowerTransformer(method='yeo-johnson')), ('scale',StandardScaler())])\n",
    "X_train_proc = pd.DataFrame(proc_pipe.fit_transform(X_train_port),columns=X_train_port.columns)\n",
    "X_test_proc = pd.DataFrame(proc_pipe.fit_transform(X_test_port),columns=X_test_port.columns)"
   ]
  },
  {
   "cell_type": "code",
   "execution_count": 20,
   "metadata": {},
   "outputs": [
    {
     "name": "stdout",
     "output_type": "stream",
     "text": [
      "X\n",
      "Skew : -0.12\n"
     ]
    },
    {
     "data": {
      "image/png": "[encoded data removed]",
      "text/plain": [
       "<Figure size 288x288 with 1 Axes>"
      ]
     },
     "metadata": {
      "needs_background": "light"
     },
     "output_type": "display_data"
    },
    {
     "name": "stdout",
     "output_type": "stream",
     "text": [
      "Y\n",
      "Skew : 0.03\n"
     ]
    },
    {
     "data": {
      "image/png": "[encoded data removed]",
      "text/plain": [
       "<Figure size 288x288 with 1 Axes>"
      ]
     },
     "metadata": {
      "needs_background": "light"
     },
     "output_type": "display_data"
    },
    {
     "name": "stdout",
     "output_type": "stream",
     "text": [
      "month\n",
      "Skew : -0.23\n"
     ]
    },
    {
     "data": {
      "image/png": "[encoded data removed]",
      "text/plain": [
       "<Figure size 288x288 with 1 Axes>"
      ]
     },
     "metadata": {
      "needs_background": "light"
     },
     "output_type": "display_data"
    },
    {
     "name": "stdout",
     "output_type": "stream",
     "text": [
      "day\n",
      "Skew : -0.22\n"
     ]
    },
    {
     "data": {
      "image/png": "[encoded data removed]",
      "text/plain": [
       "<Figure size 288x288 with 1 Axes>"
      ]
     },
     "metadata": {
      "needs_background": "light"
     },
     "output_type": "display_data"
    },
    {
     "name": "stdout",
     "output_type": "stream",
     "text": [
      "FFMC\n",
      "Skew : -0.3\n"
     ]
    },
    {
     "data": {
      "image/png": "[encoded data removed]",
      "text/plain": [
       "<Figure size 288x288 with 1 Axes>"
      ]
     },
     "metadata": {
      "needs_background": "light"
     },
     "output_type": "display_data"
    },
    {
     "name": "stdout",
     "output_type": "stream",
     "text": [
      "DMC\n",
      "Skew : -0.09\n"
     ]
    },
    {
     "data": {
      "image/png": "[encoded data removed]",
      "text/plain": [
       "<Figure size 288x288 with 1 Axes>"
      ]
     },
     "metadata": {
      "needs_background": "light"
     },
     "output_type": "display_data"
    },
    {
     "name": "stdout",
     "output_type": "stream",
     "text": [
      "DC\n",
      "Skew : -0.86\n"
     ]
    },
    {
     "data": {
      "image/png": "[encoded data removed]",
      "text/plain": [
       "<Figure size 288x288 with 1 Axes>"
      ]
     },
     "metadata": {
      "needs_background": "light"
     },
     "output_type": "display_data"
    },
    {
     "name": "stdout",
     "output_type": "stream",
     "text": [
      "ISI\n",
      "Skew : 0.04\n"
     ]
    },
    {
     "data": {
      "image/png": "[encoded data removed]",
      "text/plain": [
       "<Figure size 288x288 with 1 Axes>"
      ]
     },
     "metadata": {
      "needs_background": "light"
     },
     "output_type": "display_data"
    },
    {
     "name": "stdout",
     "output_type": "stream",
     "text": [
      "temp\n",
      "Skew : -0.03\n"
     ]
    },
    {
     "data": {
      "image/png": "[encoded data removed]",
      "text/plain": [
       "<Figure size 288x288 with 1 Axes>"
      ]
     },
     "metadata": {
      "needs_background": "light"
     },
     "output_type": "display_data"
    },
    {
     "name": "stdout",
     "output_type": "stream",
     "text": [
      "RH\n",
      "Skew : 0.0\n"
     ]
    },
    {
     "data": {
      "image/png": "[encoded data removed]",
      "text/plain": [
       "<Figure size 288x288 with 1 Axes>"
      ]
     },
     "metadata": {
      "needs_background": "light"
     },
     "output_type": "display_data"
    },
    {
     "name": "stdout",
     "output_type": "stream",
     "text": [
      "wind\n",
      "Skew : -0.02\n"
     ]
    },
    {
     "data": {
      "image/png": "[encoded data removed]",
      "text/plain": [
       "<Figure size 288x288 with 1 Axes>"
      ]
     },
     "metadata": {
      "needs_background": "light"
     },
     "output_type": "display_data"
    },
    {
     "name": "stdout",
     "output_type": "stream",
     "text": [
      "rain\n",
      "Skew : 8.14\n"
     ]
    },
    {
     "data": {
      "image/png": "[encoded data removed]",
      "text/plain": [
       "<Figure size 288x288 with 1 Axes>"
      ]
     },
     "metadata": {
      "needs_background": "light"
     },
     "output_type": "display_data"
    }
   ],
   "source": [
    "# Look at corrected plots. As it can be seen. We have succesfully normalized the data using a pipeline.\n",
    "import matplotlib.pyplot as plt\n",
    "for col in X_train_proc:\n",
    "    print(col)\n",
    "    print('Skew :',round(X_train_proc[col].skew(),2))\n",
    "    plt.figure(figsize = (4,4))\n",
    "    X_train_proc[col].plot.hist(xlabel = col, density = True)\n",
    "    plt.show()"
   ]
  },
  {
   "cell_type": "code",
   "execution_count": 23,
   "metadata": {},
   "outputs": [
    {
     "data": {
      "image/png": "[encoded data removed]",
      "text/plain": [
       "<Figure size 432x288 with 1 Axes>"
      ]
     },
     "metadata": {
      "needs_background": "light"
     },
     "output_type": "display_data"
    }
   ],
   "source": [
    "# PC on skew corrected data\n",
    "from sklearn.decomposition import PCA\n",
    "m=scaled_data_port.shape[1]\n",
    "pca_skew = PCA(n_components=m, random_state=1)\n",
    "data_pca1 = pd.DataFrame(pca_skew.fit_transform(X_train_proc))\n",
    "exp_var = pca.explained_variance_ratio_\n",
    "pca_var_explain = pd.DataFrame({'pc': [str(i) for i in range(1,n+1)], 'cum_var': pca.explained_variance_ratio_.cumsum()})\n",
    "pca_var_explain.plot(kind = \"line\", x = \"pc\", \n",
    "                     y = \"cum_var\", \n",
    "                     legend = False, \n",
    "                     ylabel=\"cum_var\", \n",
    "                     marker = 'o', \n",
    "                     linestyle = '--')\n",
    "plt.show()"
   ]
  },
  {
   "cell_type": "code",
   "execution_count": 24,
   "metadata": {},
   "outputs": [
    {
     "data": {
      "text/plain": [
       "Text(0.5, 0, 'Permutation Importance (from scikit-learn)')"
      ]
     },
     "execution_count": 24,
     "metadata": {},
     "output_type": "execute_result"
    },
    {
     "data": {
      "image/png": "[encoded data removed]",
      "text/plain": [
       "<Figure size 432x288 with 1 Axes>"
      ]
     },
     "metadata": {
      "needs_background": "light"
     },
     "output_type": "display_data"
    }
   ],
   "source": [
    "# Random Forest Method to determine most important features. Will keep top 6 features based on the PCA analysis \n",
    "grid_search = {\n",
    "    'bootstrap': [True],\n",
    "    'max_depth': [80, 90, 100],\n",
    "    'max_features': [2, 3],\n",
    "    'min_samples_leaf': [3, 4, 5],\n",
    "    'min_samples_split': [8, 10, 12],\n",
    "    'n_estimators': [100, 500]\n",
    "}\n",
    "\n",
    "rf = RandomForestRegressor()\n",
    "grid_search = GridSearchCV(estimator = rf, param_grid = grid_search, \n",
    "                          cv = 3, n_jobs = -1, verbose = 0)\n",
    "grid_search.fit(scaled_data_port, y_train_port)\n",
    "best_grid_search = grid_search.best_estimator_\n",
    "best_grid_search.feature_importances_\n",
    "perm_importance = permutation_importance(best_grid_search, X_test_s_port, y_test_port)\n",
    "sorted_idx = perm_importance.importances_mean.argsort()\n",
    "plt.barh(scaled_data_port.columns, perm_importance.importances_mean[sorted_idx], color = \"orange\")\n",
    "plt.xlabel(\"Permutation Importance (from scikit-learn)\")"
   ]
  },
  {
   "cell_type": "code",
   "execution_count": 25,
   "metadata": {},
   "outputs": [
    {
     "data": {
      "text/html": [
       "<div>\n",
       "<style scoped>\n",
       "    .dataframe tbody tr th:only-of-type {\n",
       "        vertical-align: middle;\n",
       "    }\n",
       "\n",
       "    .dataframe tbody tr th {\n",
       "        vertical-align: top;\n",
       "    }\n",
       "\n",
       "    .dataframe thead th {\n",
       "        text-align: right;\n",
       "    }\n",
       "</style>\n",
       "<table border=\"1\" class=\"dataframe\">\n",
       "  <thead>\n",
       "    <tr style=\"text-align: right;\">\n",
       "      <th></th>\n",
       "      <th>rain</th>\n",
       "      <th>wind</th>\n",
       "      <th>RH</th>\n",
       "      <th>temp</th>\n",
       "      <th>ISI</th>\n",
       "      <th>DMC</th>\n",
       "    </tr>\n",
       "  </thead>\n",
       "  <tbody>\n",
       "    <tr>\n",
       "      <th>0</th>\n",
       "      <td>-0.067817</td>\n",
       "      <td>0.506908</td>\n",
       "      <td>2.984055</td>\n",
       "      <td>-1.311893</td>\n",
       "      <td>-1.354424</td>\n",
       "      <td>-1.280589</td>\n",
       "    </tr>\n",
       "    <tr>\n",
       "      <th>1</th>\n",
       "      <td>2.421824</td>\n",
       "      <td>0.506908</td>\n",
       "      <td>1.233895</td>\n",
       "      <td>0.469074</td>\n",
       "      <td>1.419602</td>\n",
       "      <td>1.048482</td>\n",
       "    </tr>\n",
       "    <tr>\n",
       "      <th>2</th>\n",
       "      <td>-0.067817</td>\n",
       "      <td>-1.233490</td>\n",
       "      <td>-0.938719</td>\n",
       "      <td>1.143421</td>\n",
       "      <td>-0.147209</td>\n",
       "      <td>1.442492</td>\n",
       "    </tr>\n",
       "    <tr>\n",
       "      <th>3</th>\n",
       "      <td>-0.067817</td>\n",
       "      <td>0.506908</td>\n",
       "      <td>0.147588</td>\n",
       "      <td>0.209710</td>\n",
       "      <td>1.830569</td>\n",
       "      <td>-0.411941</td>\n",
       "    </tr>\n",
       "    <tr>\n",
       "      <th>4</th>\n",
       "      <td>-0.067817</td>\n",
       "      <td>0.506908</td>\n",
       "      <td>-0.878368</td>\n",
       "      <td>1.783186</td>\n",
       "      <td>2.883671</td>\n",
       "      <td>0.414111</td>\n",
       "    </tr>\n",
       "    <tr>\n",
       "      <th>...</th>\n",
       "      <td>...</td>\n",
       "      <td>...</td>\n",
       "      <td>...</td>\n",
       "      <td>...</td>\n",
       "      <td>...</td>\n",
       "      <td>...</td>\n",
       "    </tr>\n",
       "    <tr>\n",
       "      <th>99</th>\n",
       "      <td>-0.067817</td>\n",
       "      <td>0.282341</td>\n",
       "      <td>-0.697317</td>\n",
       "      <td>0.780311</td>\n",
       "      <td>1.984681</td>\n",
       "      <td>0.226994</td>\n",
       "    </tr>\n",
       "    <tr>\n",
       "      <th>100</th>\n",
       "      <td>-0.067817</td>\n",
       "      <td>0.506908</td>\n",
       "      <td>0.992493</td>\n",
       "      <td>-2.383931</td>\n",
       "      <td>-1.739706</td>\n",
       "      <td>-1.304929</td>\n",
       "    </tr>\n",
       "    <tr>\n",
       "      <th>101</th>\n",
       "      <td>4.289054</td>\n",
       "      <td>2.022739</td>\n",
       "      <td>1.595997</td>\n",
       "      <td>0.382620</td>\n",
       "      <td>-0.429749</td>\n",
       "      <td>0.832461</td>\n",
       "    </tr>\n",
       "    <tr>\n",
       "      <th>102</th>\n",
       "      <td>-0.067817</td>\n",
       "      <td>1.012185</td>\n",
       "      <td>1.595997</td>\n",
       "      <td>0.520947</td>\n",
       "      <td>-1.765391</td>\n",
       "      <td>-0.843983</td>\n",
       "    </tr>\n",
       "    <tr>\n",
       "      <th>103</th>\n",
       "      <td>-0.067817</td>\n",
       "      <td>1.798171</td>\n",
       "      <td>-0.636967</td>\n",
       "      <td>0.002219</td>\n",
       "      <td>-0.327007</td>\n",
       "      <td>0.103771</td>\n",
       "    </tr>\n",
       "  </tbody>\n",
       "</table>\n",
       "<p>104 rows × 6 columns</p>\n",
       "</div>"
      ],
      "text/plain": [
       "         rain      wind        RH      temp       ISI       DMC\n",
       "0   -0.067817  0.506908  2.984055 -1.311893 -1.354424 -1.280589\n",
       "1    2.421824  0.506908  1.233895  0.469074  1.419602  1.048482\n",
       "2   -0.067817 -1.233490 -0.938719  1.143421 -0.147209  1.442492\n",
       "3   -0.067817  0.506908  0.147588  0.209710  1.830569 -0.411941\n",
       "4   -0.067817  0.506908 -0.878368  1.783186  2.883671  0.414111\n",
       "..        ...       ...       ...       ...       ...       ...\n",
       "99  -0.067817  0.282341 -0.697317  0.780311  1.984681  0.226994\n",
       "100 -0.067817  0.506908  0.992493 -2.383931 -1.739706 -1.304929\n",
       "101  4.289054  2.022739  1.595997  0.382620 -0.429749  0.832461\n",
       "102 -0.067817  1.012185  1.595997  0.520947 -1.765391 -0.843983\n",
       "103 -0.067817  1.798171 -0.636967  0.002219 -0.327007  0.103771\n",
       "\n",
       "[104 rows x 6 columns]"
      ]
     },
     "execution_count": 25,
     "metadata": {},
     "output_type": "execute_result"
    }
   ],
   "source": [
    "# Random Forest Method to determine most important features. Will keep top 6 features based on the PCA analysis\n",
    "selected_columns = [\n",
    "    'rain',\n",
    "    'wind',\n",
    "    'RH',\n",
    "    'temp',\n",
    "    'ISI',\n",
    "    'DMC'\n",
    "]\n",
    "scaled_data_port_rf = scaled_data_port[selected_columns].copy()\n",
    "x_test_port_rf = X_test_s_port[selected_columns].copy()\n",
    "x_test_port_rf"
   ]
  },
  {
   "cell_type": "markdown",
   "metadata": {},
   "source": [
    "We essentially started with the claifornia dataset. We first split the dataset into the train and test columns. We then looked at the outliers in the dataset and removed them. Next, we plotted the dataset to understand the skew and corrected for it. Finally, we wanted to figure out the optimal number of features and the most important features. We completed PCA to figure out the number of features when fitting the data. Next we used random forest to figure out the optimal number of features. I then created a new array with just these features. This process was repeated on the Portugal dataset as well."
   ]
  },
  {
   "cell_type": "markdown",
   "metadata": {},
   "source": [
    "# Results (10 points)"
   ]
  },
  {
   "cell_type": "markdown",
   "metadata": {},
   "source": [
    "Fit your model(s) here, optimize, and finally report the validation statisitcs. Use comments `#` where relevant to clarify the steps."
   ]
  },
  {
   "cell_type": "code",
   "execution_count": 26,
   "metadata": {},
   "outputs": [
    {
     "name": "stdout",
     "output_type": "stream",
     "text": [
      "WARN: OMP_NUM_THREADS=None =>\n",
      "... If you are using openblas if you are using openblas set OMP_NUM_THREADS=1 or risk subprocess calls hanging indefinitely\n"
     ]
    }
   ],
   "source": [
    "# Using a bayesian model first to fit the data for both California and Portugal Datasets\n",
    "from sklearn.metrics import mean_absolute_error\n",
    "from hpsklearn import HyperoptEstimator\n",
    "from hpsklearn import any_regressor\n",
    "from hpsklearn import any_preprocessing\n",
    "from hyperopt import tpe"
   ]
  },
  {
   "cell_type": "code",
   "execution_count": 27,
   "metadata": {},
   "outputs": [],
   "source": [
    "# Create Bayesian Model for Cali wildfire data\n",
    "model = HyperoptEstimator(regressor=any_regressor('reg'), preprocessing=any_preprocessing('pre'), loss_fn=mean_absolute_error, algo=tpe.suggest, max_evals=50, trial_timeout=30)"
   ]
  },
  {
   "cell_type": "code",
   "execution_count": 28,
   "metadata": {},
   "outputs": [
    {
     "name": "stdout",
     "output_type": "stream",
     "text": [
      "100%|██████████| 1/1 [00:02<00:00,  2.78s/trial, best loss: 4151.967087415589]\n",
      "100%|██████████| 2/2 [00:02<00:00,  2.79s/trial, best loss: 4151.967087415589]\n",
      "100%|██████████| 3/3 [00:02<00:00,  2.70s/trial, best loss: 3376.747489782748]\n",
      "100%|██████████| 4/4 [00:03<00:00,  3.14s/trial, best loss: 2967.907014817727]\n",
      "100%|██████████| 5/5 [00:03<00:00,  3.49s/trial, best loss: 2967.907014817727]\n",
      "100%|██████████| 6/6 [00:06<00:00,  6.40s/trial, best loss: 2909.217915013824]\n",
      "100%|██████████| 7/7 [00:02<00:00,  2.54s/trial, best loss: 2909.217915013824]\n",
      "100%|██████████| 8/8 [00:04<00:00,  4.45s/trial, best loss: 2909.217915013824]\n",
      "100%|██████████| 9/9 [00:02<00:00,  2.90s/trial, best loss: 2909.217915013824]\n",
      "100%|██████████| 10/10 [00:03<00:00,  3.07s/trial, best loss: 2909.217915013824]\n",
      "100%|██████████| 11/11 [00:03<00:00,  3.10s/trial, best loss: 2909.217915013824]\n",
      "100%|██████████| 12/12 [00:07<00:00,  7.11s/trial, best loss: 2840.2875542677843]\n",
      "100%|██████████| 13/13 [00:04<00:00,  4.64s/trial, best loss: 2840.2875542677843]\n",
      "100%|██████████| 14/14 [00:03<00:00,  3.04s/trial, best loss: 2840.2875542677843]\n",
      "100%|██████████| 15/15 [00:03<00:00,  3.76s/trial, best loss: 2840.2875542677843]\n",
      "100%|██████████| 16/16 [00:03<00:00,  3.13s/trial, best loss: 2840.2875542677843]\n",
      "100%|██████████| 17/17 [00:06<00:00,  6.18s/trial, best loss: 2840.2875542677843]\n",
      "100%|██████████| 18/18 [00:03<00:00,  3.89s/trial, best loss: 2840.2875542677843]\n",
      "100%|██████████| 19/19 [00:05<00:00,  5.01s/trial, best loss: 2840.2875542677843]\n",
      "100%|██████████| 20/20 [00:04<00:00,  4.65s/trial, best loss: 2840.2875542677843]\n",
      "100%|██████████| 21/21 [00:03<00:00,  3.85s/trial, best loss: 2840.2875542677843]\n",
      "100%|██████████| 22/22 [00:03<00:00,  3.05s/trial, best loss: 2840.2875542677843]\n",
      "100%|██████████| 23/23 [00:03<00:00,  3.33s/trial, best loss: 2840.2875542677843]\n",
      "100%|██████████| 24/24 [00:03<00:00,  3.62s/trial, best loss: 2840.2875542677843]\n",
      "100%|██████████| 25/25 [00:03<00:00,  3.72s/trial, best loss: 2840.2875542677843]\n",
      "100%|██████████| 26/26 [00:03<00:00,  3.19s/trial, best loss: 2840.2875542677843]\n",
      "100%|██████████| 27/27 [00:05<00:00,  5.03s/trial, best loss: 2840.2875542677843]\n",
      "100%|██████████| 28/28 [00:03<00:00,  3.04s/trial, best loss: 2840.2875542677843]\n",
      "100%|██████████| 29/29 [00:07<00:00,  7.84s/trial, best loss: 2840.2875542677843]\n",
      "100%|██████████| 30/30 [00:25<00:00, 25.23s/trial, best loss: 2840.2875542677843]\n",
      "100%|██████████| 31/31 [00:03<00:00,  3.18s/trial, best loss: 2840.2875542677843]\n",
      "100%|██████████| 32/32 [00:02<00:00,  2.53s/trial, best loss: 2840.2875542677843]\n",
      "100%|██████████| 33/33 [00:02<00:00,  2.88s/trial, best loss: 2840.2875542677843]\n",
      "100%|██████████| 34/34 [00:32<00:00, 32.75s/trial, best loss: 2840.2875542677843]\n",
      "100%|██████████| 35/35 [00:30<00:00, 30.60s/trial, best loss: 2840.2875542677843]\n",
      "100%|██████████| 36/36 [00:03<00:00,  3.24s/trial, best loss: 2840.2875542677843]\n",
      "100%|██████████| 37/37 [00:04<00:00,  4.44s/trial, best loss: 2789.9847691916502]\n",
      "100%|██████████| 38/38 [00:32<00:00, 32.68s/trial, best loss: 2789.9847691916502]\n",
      "100%|██████████| 39/39 [00:10<00:00, 10.97s/trial, best loss: 2789.9847691916502]\n",
      "100%|██████████| 40/40 [00:02<00:00,  2.78s/trial, best loss: 2789.9847691916502]\n",
      "100%|██████████| 41/41 [00:02<00:00,  2.64s/trial, best loss: 2789.9847691916502]\n",
      "100%|██████████| 42/42 [00:02<00:00,  2.74s/trial, best loss: 2789.9847691916502]\n",
      "100%|██████████| 43/43 [00:05<00:00,  5.05s/trial, best loss: 2789.9847691916502]\n",
      "100%|██████████| 44/44 [00:03<00:00,  3.12s/trial, best loss: 2789.9847691916502]\n",
      "100%|██████████| 45/45 [00:05<00:00,  5.09s/trial, best loss: 2789.9847691916502]\n",
      "100%|██████████| 46/46 [00:02<00:00,  2.85s/trial, best loss: 2789.9847691916502]\n",
      "100%|██████████| 47/47 [00:02<00:00,  2.80s/trial, best loss: 2789.9847691916502]\n",
      "100%|██████████| 48/48 [00:02<00:00,  2.69s/trial, best loss: 2789.9847691916502]\n",
      "100%|██████████| 49/49 [00:02<00:00,  2.97s/trial, best loss: 2789.9847691916502]\n",
      "100%|██████████| 50/50 [00:02<00:00,  2.71s/trial, best loss: 2789.9847691916502]\n",
      "{'learner': GradientBoostingRegressor(alpha=0.8551423779686803,\n",
      "                          learning_rate=0.0359934991080926, loss='huber',\n",
      "                          max_depth=None, max_features=0.6056315313013924,\n",
      "                          min_samples_leaf=6, n_estimators=50, random_state=0,\n",
      "                          subsample=0.9097298222662141), 'preprocs': (), 'ex_preprocs': ()}\n"
     ]
    }
   ],
   "source": [
    "# Fit the model for Cali wildfire data\n",
    "model.fit(scaled_data_cali_rf, y_train_cali)\n",
    "print(model.best_model())"
   ]
  },
  {
   "cell_type": "code",
   "execution_count": 29,
   "metadata": {},
   "outputs": [
    {
     "name": "stdout",
     "output_type": "stream",
     "text": [
      "100%|██████████| 1/1 [00:03<00:00,  3.47s/trial, best loss: 10.364671971339959]\n",
      "100%|██████████| 2/2 [00:02<00:00,  2.49s/trial, best loss: 7.52321081642112]\n",
      "100%|██████████| 3/3 [00:02<00:00,  2.35s/trial, best loss: 7.52321081642112]\n",
      "100%|██████████| 4/4 [00:02<00:00,  2.86s/trial, best loss: 7.52321081642112]\n",
      "100%|██████████| 5/5 [00:02<00:00,  2.74s/trial, best loss: 7.52321081642112]\n",
      "100%|██████████| 6/6 [00:03<00:00,  3.34s/trial, best loss: 7.52321081642112]\n",
      "100%|██████████| 7/7 [00:03<00:00,  3.09s/trial, best loss: 7.52321081642112]\n",
      "100%|██████████| 8/8 [00:02<00:00,  2.65s/trial, best loss: 7.522493011743058]\n",
      "100%|██████████| 9/9 [00:02<00:00,  2.85s/trial, best loss: 7.522493011743058]\n",
      "100%|██████████| 10/10 [00:03<00:00,  3.42s/trial, best loss: 7.522493011743058]\n",
      "100%|██████████| 11/11 [00:32<00:00, 32.66s/trial, best loss: 7.522493011743058]\n",
      "100%|██████████| 12/12 [00:02<00:00,  2.64s/trial, best loss: 7.522493011743058]\n",
      "100%|██████████| 13/13 [00:02<00:00,  2.96s/trial, best loss: 7.522493011743058]\n",
      "100%|██████████| 14/14 [00:02<00:00,  2.95s/trial, best loss: 7.522493011743058]\n",
      "100%|██████████| 15/15 [00:02<00:00,  2.71s/trial, best loss: 7.47497138001856]\n",
      "100%|██████████| 16/16 [00:02<00:00,  2.52s/trial, best loss: 7.47497138001856]\n",
      "100%|██████████| 17/17 [00:02<00:00,  2.55s/trial, best loss: 7.47497138001856]\n",
      "100%|██████████| 18/18 [00:03<00:00,  3.08s/trial, best loss: 7.47497138001856]\n",
      "100%|██████████| 19/19 [00:03<00:00,  3.04s/trial, best loss: 7.47497138001856]\n",
      "100%|██████████| 20/20 [00:02<00:00,  2.51s/trial, best loss: 7.47497138001856]\n",
      "100%|██████████| 21/21 [00:02<00:00,  2.47s/trial, best loss: 7.47497138001856]\n",
      "100%|██████████| 22/22 [00:02<00:00,  2.62s/trial, best loss: 7.47497138001856]\n",
      "100%|██████████| 23/23 [00:03<00:00,  3.56s/trial, best loss: 7.47497138001856]\n",
      "100%|██████████| 24/24 [00:03<00:00,  3.86s/trial, best loss: 7.446655510392668]\n",
      "100%|██████████| 25/25 [00:04<00:00,  4.04s/trial, best loss: 7.446655510392668]\n",
      "100%|██████████| 26/26 [00:04<00:00,  4.90s/trial, best loss: 7.446655510392668]\n",
      "100%|██████████| 27/27 [00:09<00:00,  9.78s/trial, best loss: 7.446655510392668]\n",
      "100%|██████████| 28/28 [00:03<00:00,  3.16s/trial, best loss: 7.446655510392668]\n",
      "100%|██████████| 29/29 [00:02<00:00,  2.80s/trial, best loss: 7.3686323865192955]\n",
      "100%|██████████| 30/30 [00:04<00:00,  4.76s/trial, best loss: 7.3686323865192955]\n",
      "100%|██████████| 31/31 [00:05<00:00,  5.76s/trial, best loss: 7.3686323865192955]\n",
      "100%|██████████| 32/32 [00:03<00:00,  3.01s/trial, best loss: 7.3686323865192955]\n",
      "100%|██████████| 33/33 [00:02<00:00,  2.73s/trial, best loss: 7.3686323865192955]\n",
      "100%|██████████| 34/34 [00:03<00:00,  3.16s/trial, best loss: 7.3686323865192955]\n",
      "100%|██████████| 35/35 [00:02<00:00,  2.50s/trial, best loss: 7.3686323865192955]\n",
      "100%|██████████| 36/36 [00:03<00:00,  3.62s/trial, best loss: 7.3686323865192955]\n",
      "100%|██████████| 37/37 [00:02<00:00,  2.54s/trial, best loss: 7.3686323865192955]\n",
      "100%|██████████| 38/38 [00:02<00:00,  2.85s/trial, best loss: 7.3686323865192955]\n",
      "100%|██████████| 39/39 [00:02<00:00,  2.98s/trial, best loss: 7.3686323865192955]\n",
      "100%|██████████| 40/40 [00:02<00:00,  2.73s/trial, best loss: 7.3686323865192955]\n",
      "100%|██████████| 41/41 [00:03<00:00,  3.80s/trial, best loss: 7.3686323865192955]\n",
      "100%|██████████| 42/42 [00:02<00:00,  2.68s/trial, best loss: 7.3686323865192955]\n",
      "100%|██████████| 43/43 [00:02<00:00,  2.92s/trial, best loss: 7.3686323865192955]\n",
      "100%|██████████| 44/44 [00:02<00:00,  2.85s/trial, best loss: 7.3686323865192955]\n",
      "100%|██████████| 45/45 [00:03<00:00,  3.10s/trial, best loss: 7.3686323865192955]\n",
      "100%|██████████| 46/46 [00:02<00:00,  2.82s/trial, best loss: 7.3686323865192955]\n",
      "100%|██████████| 47/47 [00:02<00:00,  2.70s/trial, best loss: 7.3686323865192955]\n",
      "100%|██████████| 48/48 [00:04<00:00,  4.70s/trial, best loss: 7.3686323865192955]\n",
      "100%|██████████| 49/49 [00:03<00:00,  3.29s/trial, best loss: 7.3686323865192955]\n",
      "100%|██████████| 50/50 [00:26<00:00, 26.90s/trial, best loss: 7.3686323865192955]\n",
      "{'learner': GradientBoostingRegressor(learning_rate=0.08068429029435582, loss='lad',\n",
      "                          max_depth=2, max_features='log2', min_samples_leaf=2,\n",
      "                          n_estimators=200, random_state=1,\n",
      "                          subsample=0.9539368525975164), 'preprocs': (), 'ex_preprocs': ()}\n"
     ]
    }
   ],
   "source": [
    "# Create and fit the model for the portugal wildfire data\n",
    "model_port = HyperoptEstimator(regressor=any_regressor('reg'), preprocessing=any_preprocessing('pre'), loss_fn=mean_absolute_error, algo=tpe.suggest, max_evals=50, trial_timeout=30)\n",
    "model_port.fit(scaled_data_port_rf, y_train_port)\n",
    "print(model_port.best_model())"
   ]
  },
  {
   "cell_type": "code",
   "execution_count": 30,
   "metadata": {},
   "outputs": [
    {
     "name": "stdout",
     "output_type": "stream",
     "text": [
      "R2 score for Bayesian Regression Model on Cali Data:  0.07739288016940371\n",
      "R2 score for Bayesian Regression Model on Portugal Data:  -0.026790531401285733\n"
     ]
    }
   ],
   "source": [
    "mae_cali = model.score(x_test_cali_rf, y_test_cali)\n",
    "print('R2 score for Bayesian Regression Model on Cali Data: ', mae_cali)\n",
    "mae_port = model_port.score(x_test_port_rf, y_test_port)\n",
    "print('R2 score for Bayesian Regression Model on Portugal Data: ', mae_port)"
   ]
  },
  {
   "cell_type": "markdown",
   "metadata": {},
   "source": [
    "It is clear that we can improve this by choosing a new model. We will choose Random forest and apply Grid search tuning techniques on it."
   ]
  },
  {
   "cell_type": "code",
   "execution_count": 31,
   "metadata": {},
   "outputs": [
    {
     "name": "stdout",
     "output_type": "stream",
     "text": [
      "Random Forest without Tuning for Cali Data:  0.19647885923328756\n",
      "Random Forestwith Grid Search Tuning for Cali Data:  0.16961883529371613\n"
     ]
    }
   ],
   "source": [
    "# import\n",
    "from sklearn.model_selection import GridSearchCV\n",
    "# Random forest regressor for cali data\n",
    "rf = RandomForestRegressor()\n",
    "n_estimators = [int(x) for x in np.linspace(start = 200, stop = 1000, num = 100)]\n",
    "# Number of features to consider at every split\n",
    "max_features = ['auto', 'sqrt']\n",
    "# the max number of levels or layers in a tree\n",
    "max_depth = [int(x) for x in np.linspace(10, 110, num = 11)]\n",
    "max_depth.append(None)\n",
    "# to split nodes, the minimum number of samples\n",
    "min_samples_split = [2, 5, 10]\n",
    "# to be a leaf (terminal node), the minimum number of samples\n",
    "min_samples_leaf = [1, 2, 4]\n",
    "bootstrap = [True, False]\n",
    "rf.fit(scaled_data_cali_rf, y_train_cali)\n",
    "print('Random Forest without Tuning for Cali Data: ', rf.score(x_test_cali_rf, y_test_cali))\n",
    "grid_search = {\n",
    "    'bootstrap': [True],\n",
    "    'max_depth': [80, 90, 100],\n",
    "    'max_features': [2, 3],\n",
    "    'min_samples_leaf': [3, 4, 5],\n",
    "    'min_samples_split': [8, 10, 12],\n",
    "    'n_estimators': [100, 500]\n",
    "}\n",
    "\n",
    "rf2 = RandomForestRegressor()\n",
    "grid_search = GridSearchCV(estimator = rf2, param_grid = grid_search, \n",
    "                          cv = 3, n_jobs = -1, verbose = 0)\n",
    "grid_search.fit(scaled_data_cali_rf, y_train_cali)\n",
    "best_grid_search = grid_search.best_estimator_\n",
    "grid_search_R2 = best_grid_search.score(x_test_cali_rf, y_test_cali)\n",
    "print('Random Forestwith Grid Search Tuning for Cali Data: ', grid_search_R2)"
   ]
  },
  {
   "cell_type": "code",
   "execution_count": 28,
   "metadata": {},
   "outputs": [
    {
     "name": "stdout",
     "output_type": "stream",
     "text": [
      "Random Forest without Tuning for Portugal Data:  -0.013173496101323234\n",
      "Random Forestwith Grid Search Tuning for Portugal Data:  0.0023158340598185\n"
     ]
    }
   ],
   "source": [
    "# Now applying it on Portugal Data data\n",
    "rf = RandomForestRegressor()\n",
    "n_estimators = [int(x) for x in np.linspace(start = 200, stop = 1000, num = 100)]\n",
    "# Number of features to consider at every split\n",
    "max_features = ['auto', 'sqrt']\n",
    "# the max number of levels or layers in a tree\n",
    "max_depth = [int(x) for x in np.linspace(10, 110, num = 11)]\n",
    "max_depth.append(None)\n",
    "# to split nodes, the minimum number of samples\n",
    "min_samples_split = [2, 5, 10]\n",
    "# to be a leaf (terminal node), the minimum number of samples\n",
    "min_samples_leaf = [1, 2, 4]\n",
    "bootstrap = [True, False]\n",
    "rf.fit(scaled_data_port_rf, y_train_port)\n",
    "print('Random Forest without Tuning for Portugal Data: ', rf.score(x_test_port_rf, y_test_port))\n",
    "grid_search = {\n",
    "    'bootstrap': [True],\n",
    "    'max_depth': [80, 90, 100],\n",
    "    'max_features': [2, 3],\n",
    "    'min_samples_leaf': [3, 4, 5],\n",
    "    'min_samples_split': [8, 10, 12],\n",
    "    'n_estimators': [100, 500]\n",
    "}\n",
    "\n",
    "rf2 = RandomForestRegressor()\n",
    "grid_search = GridSearchCV(estimator = rf2, param_grid = grid_search, \n",
    "                          cv = 3, n_jobs = -1, verbose = 0)\n",
    "grid_search.fit(scaled_data_port_rf, y_train_port)\n",
    "best_grid_search = grid_search.best_estimator_\n",
    "grid_search_R2 = best_grid_search.score(x_test_port_rf, y_test_port)\n",
    "print('Random Forestwith Grid Search Tuning for Portugal Data: ', grid_search_R2)"
   ]
  },
  {
   "cell_type": "code",
   "execution_count": 65,
   "metadata": {},
   "outputs": [],
   "source": [
    "# Random forest even when tuned did not show good results. We can try neural networks if they can learn better.\n",
    "# import necessary libraries to run NN \n",
    "import numpy as np\n",
    "import pandas as pd\n",
    "import matplotlib.pyplot as plt\n",
    "import seaborn as sns\n",
    "\n",
    "from sklearn.model_selection import train_test_split\n",
    "from sklearn.preprocessing import MinMaxScaler\n",
    "from sklearn.datasets import make_regression\n",
    "from sklearn import metrics\n",
    "\n",
    "import tensorflow as tf\n",
    "from tensorflow import keras\n",
    "from keras.models import Sequential\n",
    "from keras.layers import Dense, Dropout, Activation, LeakyReLU \n",
    "from keras.metrics import AUC\n",
    "from keras import backend as K\n",
    "tf.random.set_seed(42)\n",
    "K.clear_session()"
   ]
  },
  {
   "cell_type": "code",
   "execution_count": 66,
   "metadata": {},
   "outputs": [
    {
     "name": "stdout",
     "output_type": "stream",
     "text": [
      "Model: \"sequential\"\n",
      "_________________________________________________________________\n",
      "Layer (type)                 Output Shape              Param #   \n",
      "=================================================================\n",
      "dense (Dense)                (None, 128)               896       \n",
      "_________________________________________________________________\n",
      "dropout (Dropout)            (None, 128)               0         \n",
      "_________________________________________________________________\n",
      "dense_1 (Dense)              (None, 64)                8256      \n",
      "_________________________________________________________________\n",
      "dropout_1 (Dropout)          (None, 64)                0         \n",
      "_________________________________________________________________\n",
      "dense_2 (Dense)              (None, 32)                2080      \n",
      "_________________________________________________________________\n",
      "dense_3 (Dense)              (None, 1)                 33        \n",
      "=================================================================\n",
      "Total params: 11,265\n",
      "Trainable params: 11,265\n",
      "Non-trainable params: 0\n",
      "_________________________________________________________________\n"
     ]
    }
   ],
   "source": [
    "# We are going to run a NN with regularization from the padding. We will set our own R2 scale\n",
    "model_2 = Sequential()\n",
    "model_2.add(Dense(128, activation=LeakyReLU(alpha=0.01), input_shape=(scaled_data_cali_rf.shape[1],)))\n",
    "model_2.add(Dropout(0.1))\n",
    "model_2.add(Dense(64, activation=LeakyReLU(alpha=0.01)))\n",
    "model_2.add(Dropout(0.1))\n",
    "model_2.add(Dense(32, activation=LeakyReLU(alpha=0.01)))\n",
    "model_2.add(Dense(1, activation='linear'))\n",
    "def r2(y_true, y_pred):\n",
    "    SS_res =  K.sum(K.square( y_true-y_pred ))\n",
    "    SS_tot = K.sum(K.square( y_true - K.mean(y_true) ) )\n",
    "    return ( 1 - SS_res/(SS_tot + K.epsilon()) )\n",
    "model_2.compile(loss = 'mean_squared_error', optimizer='adamax', metrics=[r2])\n",
    "model_2.summary()"
   ]
  },
  {
   "cell_type": "code",
   "execution_count": 73,
   "metadata": {},
   "outputs": [
    {
     "name": "stdout",
     "output_type": "stream",
     "text": [
      "Epoch 1/100\n",
      "35/35 - 0s - loss: 168397232.0000 - r2: -1.1382e-01 - val_loss: 128855568.0000 - val_r2: -1.3376e-01\n",
      "Epoch 2/100\n",
      "35/35 - 0s - loss: 168377296.0000 - r2: -1.0761e-01 - val_loss: 128832544.0000 - val_r2: -1.3188e-01\n",
      "Epoch 3/100\n",
      "35/35 - 0s - loss: 168350448.0000 - r2: -1.3386e-01 - val_loss: 128806184.0000 - val_r2: -1.2972e-01\n",
      "Epoch 4/100\n",
      "35/35 - 0s - loss: 168322832.0000 - r2: -1.1111e-01 - val_loss: 128770024.0000 - val_r2: -1.2676e-01\n",
      "Epoch 5/100\n",
      "35/35 - 0s - loss: 168283472.0000 - r2: -9.0803e-02 - val_loss: 128727208.0000 - val_r2: -1.2327e-01\n",
      "Epoch 6/100\n",
      "35/35 - 0s - loss: 168239088.0000 - r2: -1.0717e-01 - val_loss: 128681128.0000 - val_r2: -1.1950e-01\n",
      "Epoch 7/100\n",
      "35/35 - 0s - loss: 168183104.0000 - r2: -1.0420e-01 - val_loss: 128622608.0000 - val_r2: -1.1483e-01\n",
      "Epoch 8/100\n",
      "35/35 - 0s - loss: 168125904.0000 - r2: -8.7785e-02 - val_loss: 128559520.0000 - val_r2: -1.0981e-01\n",
      "Epoch 9/100\n",
      "35/35 - 0s - loss: 168052480.0000 - r2: -9.0581e-02 - val_loss: 128484168.0000 - val_r2: -1.0404e-01\n",
      "Epoch 10/100\n",
      "35/35 - 0s - loss: 167977104.0000 - r2: -1.0087e-01 - val_loss: 128398912.0000 - val_r2: -9.7591e-02\n",
      "Epoch 11/100\n",
      "35/35 - 0s - loss: 167898496.0000 - r2: -9.4168e-02 - val_loss: 128325200.0000 - val_r2: -9.2184e-02\n",
      "Epoch 12/100\n",
      "35/35 - 0s - loss: 167809584.0000 - r2: -8.7005e-02 - val_loss: 128243448.0000 - val_r2: -8.6443e-02\n",
      "Epoch 13/100\n",
      "35/35 - 0s - loss: 167724288.0000 - r2: -8.7199e-02 - val_loss: 128150496.0000 - val_r2: -8.0205e-02\n",
      "Epoch 14/100\n",
      "35/35 - 0s - loss: 167626640.0000 - r2: -8.8961e-02 - val_loss: 128045088.0000 - val_r2: -7.3565e-02\n",
      "Epoch 15/100\n",
      "35/35 - 0s - loss: 167500144.0000 - r2: -6.7549e-02 - val_loss: 127940544.0000 - val_r2: -6.7367e-02\n",
      "Epoch 16/100\n",
      "35/35 - 0s - loss: 167372848.0000 - r2: -1.0660e-01 - val_loss: 127825576.0000 - val_r2: -6.1163e-02\n",
      "Epoch 17/100\n",
      "35/35 - 0s - loss: 167288320.0000 - r2: -6.6070e-02 - val_loss: 127720696.0000 - val_r2: -5.5991e-02\n",
      "Epoch 18/100\n",
      "35/35 - 0s - loss: 167155664.0000 - r2: -6.4623e-02 - val_loss: 127580848.0000 - val_r2: -4.9913e-02\n",
      "Epoch 19/100\n",
      "35/35 - 0s - loss: 167018400.0000 - r2: -6.5880e-02 - val_loss: 127462600.0000 - val_r2: -4.5560e-02\n",
      "Epoch 20/100\n",
      "35/35 - 0s - loss: 166865664.0000 - r2: -5.3096e-02 - val_loss: 127313736.0000 - val_r2: -4.1099e-02\n",
      "Epoch 21/100\n",
      "35/35 - 0s - loss: 166706016.0000 - r2: -6.6179e-02 - val_loss: 127133136.0000 - val_r2: -3.7364e-02\n",
      "Epoch 22/100\n",
      "35/35 - 0s - loss: 166521488.0000 - r2: -4.7884e-02 - val_loss: 126965232.0000 - val_r2: -3.5716e-02\n",
      "Epoch 23/100\n",
      "35/35 - 0s - loss: 166338416.0000 - r2: -4.8271e-02 - val_loss: 126811648.0000 - val_r2: -3.5852e-02\n",
      "Epoch 24/100\n",
      "35/35 - 0s - loss: 166168544.0000 - r2: -2.0538e-01 - val_loss: 126651720.0000 - val_r2: -3.7807e-02\n",
      "Epoch 25/100\n",
      "35/35 - 0s - loss: 166019072.0000 - r2: -3.0833e-01 - val_loss: 126497760.0000 - val_r2: -4.1643e-02\n",
      "Epoch 26/100\n",
      "35/35 - 0s - loss: 165828736.0000 - r2: -1.3356e-01 - val_loss: 126335288.0000 - val_r2: -4.7842e-02\n",
      "Epoch 27/100\n",
      "35/35 - 0s - loss: 165697392.0000 - r2: -1.2230e-01 - val_loss: 126154392.0000 - val_r2: -5.7742e-02\n",
      "Epoch 28/100\n",
      "35/35 - 0s - loss: 165450864.0000 - r2: -6.9862e-02 - val_loss: 125954824.0000 - val_r2: -7.2512e-02\n",
      "Epoch 29/100\n",
      "35/35 - 0s - loss: 165298080.0000 - r2: -9.1886e-02 - val_loss: 125772024.0000 - val_r2: -9.0296e-02\n",
      "Epoch 30/100\n",
      "35/35 - 0s - loss: 165067680.0000 - r2: -2.2812e-01 - val_loss: 125606224.0000 - val_r2: -1.1002e-01\n",
      "Epoch 31/100\n",
      "35/35 - 0s - loss: 164913312.0000 - r2: -8.0647e-02 - val_loss: 125451968.0000 - val_r2: -1.3275e-01\n",
      "Epoch 32/100\n",
      "35/35 - 0s - loss: 164727088.0000 - r2: -1.7691e-01 - val_loss: 125322432.0000 - val_r2: -1.5433e-01\n",
      "Epoch 33/100\n",
      "35/35 - 0s - loss: 164602512.0000 - r2: -1.1678e-01 - val_loss: 125198024.0000 - val_r2: -1.7896e-01\n",
      "Epoch 34/100\n",
      "35/35 - 0s - loss: 164409088.0000 - r2: -7.8761e-01 - val_loss: 125055920.0000 - val_r2: -2.1126e-01\n",
      "Epoch 35/100\n",
      "35/35 - 0s - loss: 164375712.0000 - r2: -7.0867e-01 - val_loss: 124931024.0000 - val_r2: -2.4257e-01\n",
      "Epoch 36/100\n",
      "35/35 - 0s - loss: 164180368.0000 - r2: -4.2184e-01 - val_loss: 124820120.0000 - val_r2: -2.7590e-01\n",
      "Epoch 37/100\n",
      "35/35 - 0s - loss: 164053696.0000 - r2: -4.9227e-01 - val_loss: 124718536.0000 - val_r2: -3.0764e-01\n",
      "Epoch 38/100\n",
      "35/35 - 0s - loss: 164003600.0000 - r2: -7.6181e-01 - val_loss: 124618304.0000 - val_r2: -3.4404e-01\n",
      "Epoch 39/100\n",
      "35/35 - 0s - loss: 163873792.0000 - r2: -2.2105e-01 - val_loss: 124523896.0000 - val_r2: -3.8273e-01\n",
      "Epoch 40/100\n",
      "35/35 - 0s - loss: 163786928.0000 - r2: -4.4442e-01 - val_loss: 124432128.0000 - val_r2: -4.2254e-01\n",
      "Epoch 41/100\n",
      "35/35 - 0s - loss: 163672048.0000 - r2: -2.9240e-01 - val_loss: 124330128.0000 - val_r2: -4.7350e-01\n",
      "Epoch 42/100\n",
      "35/35 - 0s - loss: 163583184.0000 - r2: -1.1268e+00 - val_loss: 124253712.0000 - val_r2: -5.1922e-01\n",
      "Epoch 43/100\n",
      "35/35 - 0s - loss: 163473360.0000 - r2: -7.7922e-01 - val_loss: 124170656.0000 - val_r2: -5.6780e-01\n",
      "Epoch 44/100\n",
      "35/35 - 0s - loss: 163251360.0000 - r2: -1.5416e+00 - val_loss: 124094416.0000 - val_r2: -6.2158e-01\n",
      "Epoch 45/100\n",
      "35/35 - 0s - loss: 163312976.0000 - r2: -1.1529e+00 - val_loss: 124027184.0000 - val_r2: -6.7059e-01\n",
      "Epoch 46/100\n",
      "35/35 - 0s - loss: 163202240.0000 - r2: -3.4749e-01 - val_loss: 123976664.0000 - val_r2: -7.1822e-01\n",
      "Epoch 47/100\n",
      "35/35 - 0s - loss: 163210400.0000 - r2: -6.6581e-01 - val_loss: 123910808.0000 - val_r2: -7.7982e-01\n",
      "Epoch 48/100\n",
      "35/35 - 0s - loss: 163168080.0000 - r2: -2.8081e-01 - val_loss: 123866720.0000 - val_r2: -8.2515e-01\n",
      "Epoch 49/100\n",
      "35/35 - 0s - loss: 163010400.0000 - r2: -1.4629e+00 - val_loss: 123827248.0000 - val_r2: -8.6609e-01\n",
      "Epoch 50/100\n",
      "35/35 - 0s - loss: 162889744.0000 - r2: -1.7950e+00 - val_loss: 123792848.0000 - val_r2: -9.1153e-01\n",
      "Epoch 51/100\n",
      "35/35 - 0s - loss: 163034560.0000 - r2: -2.1226e+00 - val_loss: 123755008.0000 - val_r2: -9.5450e-01\n",
      "Epoch 52/100\n",
      "35/35 - 0s - loss: 162972672.0000 - r2: -2.1816e+00 - val_loss: 123722344.0000 - val_r2: -1.0020e+00\n",
      "Epoch 53/100\n",
      "35/35 - 0s - loss: 162952272.0000 - r2: -3.6240e+00 - val_loss: 123694272.0000 - val_r2: -1.0346e+00\n",
      "Epoch 54/100\n",
      "35/35 - 0s - loss: 162992928.0000 - r2: -9.5334e-01 - val_loss: 123666488.0000 - val_r2: -1.0733e+00\n",
      "Epoch 55/100\n",
      "35/35 - 0s - loss: 162844160.0000 - r2: -2.8456e-01 - val_loss: 123638616.0000 - val_r2: -1.1241e+00\n",
      "Epoch 56/100\n",
      "35/35 - 0s - loss: 162943296.0000 - r2: -2.4261e+00 - val_loss: 123617760.0000 - val_r2: -1.1458e+00\n",
      "Epoch 57/100\n",
      "35/35 - 0s - loss: 162881232.0000 - r2: -5.7320e-01 - val_loss: 123594088.0000 - val_r2: -1.1906e+00\n",
      "Epoch 58/100\n",
      "35/35 - 0s - loss: 162820400.0000 - r2: -6.5067e-01 - val_loss: 123568472.0000 - val_r2: -1.2459e+00\n",
      "Epoch 59/100\n",
      "35/35 - 0s - loss: 162912032.0000 - r2: -6.9608e+00 - val_loss: 123555016.0000 - val_r2: -1.2434e+00\n",
      "Epoch 60/100\n",
      "35/35 - 0s - loss: 162869104.0000 - r2: -4.1938e+00 - val_loss: 123535344.0000 - val_r2: -1.3000e+00\n",
      "Epoch 61/100\n",
      "35/35 - 0s - loss: 162706080.0000 - r2: -1.5496e+00 - val_loss: 123521256.0000 - val_r2: -1.3080e+00\n",
      "Epoch 62/100\n",
      "35/35 - 0s - loss: 162735264.0000 - r2: -9.7394e-01 - val_loss: 123505312.0000 - val_r2: -1.3151e+00\n",
      "Epoch 63/100\n",
      "35/35 - 0s - loss: 162624800.0000 - r2: -1.2567e+00 - val_loss: 123483848.0000 - val_r2: -1.3494e+00\n",
      "Epoch 64/100\n",
      "35/35 - 0s - loss: 162874640.0000 - r2: -1.6293e+00 - val_loss: 123467744.0000 - val_r2: -1.3566e+00\n",
      "Epoch 65/100\n",
      "35/35 - 0s - loss: 162815232.0000 - r2: -5.1628e-01 - val_loss: 123449424.0000 - val_r2: -1.3987e+00\n",
      "Epoch 66/100\n",
      "35/35 - 0s - loss: 162596048.0000 - r2: -1.4927e+00 - val_loss: 123434592.0000 - val_r2: -1.4076e+00\n",
      "Epoch 67/100\n",
      "35/35 - 0s - loss: 162861856.0000 - r2: -2.2841e+00 - val_loss: 123417080.0000 - val_r2: -1.4105e+00\n",
      "Epoch 68/100\n",
      "35/35 - 0s - loss: 162754416.0000 - r2: -1.6717e+00 - val_loss: 123401528.0000 - val_r2: -1.4454e+00\n",
      "Epoch 69/100\n",
      "35/35 - 0s - loss: 162743600.0000 - r2: -2.0840e+00 - val_loss: 123388728.0000 - val_r2: -1.4450e+00\n",
      "Epoch 70/100\n",
      "35/35 - 0s - loss: 162715552.0000 - r2: -1.0592e+01 - val_loss: 123371848.0000 - val_r2: -1.4697e+00\n",
      "Epoch 71/100\n",
      "35/35 - 0s - loss: 163024592.0000 - r2: -1.6414e+00 - val_loss: 123355456.0000 - val_r2: -1.4747e+00\n",
      "Epoch 72/100\n",
      "35/35 - 0s - loss: 162803760.0000 - r2: -8.9532e-01 - val_loss: 123333416.0000 - val_r2: -1.4356e+00\n"
     ]
    },
    {
     "name": "stdout",
     "output_type": "stream",
     "text": [
      "Epoch 73/100\n",
      "35/35 - 0s - loss: 162747296.0000 - r2: -6.8581e+00 - val_loss: 123322800.0000 - val_r2: -1.4686e+00\n",
      "Epoch 74/100\n",
      "35/35 - 0s - loss: 162710784.0000 - r2: -4.3020e+00 - val_loss: 123306696.0000 - val_r2: -1.4908e+00\n",
      "Epoch 75/100\n",
      "35/35 - 0s - loss: 162607728.0000 - r2: -7.8568e-01 - val_loss: 123289832.0000 - val_r2: -1.4909e+00\n",
      "Epoch 76/100\n",
      "35/35 - 0s - loss: 162712048.0000 - r2: -1.6991e+00 - val_loss: 123276632.0000 - val_r2: -1.4937e+00\n",
      "Epoch 77/100\n",
      "35/35 - 0s - loss: 162563600.0000 - r2: -2.6571e+00 - val_loss: 123263032.0000 - val_r2: -1.5190e+00\n",
      "Epoch 78/100\n",
      "35/35 - 0s - loss: 162830064.0000 - r2: -1.3631e+00 - val_loss: 123245248.0000 - val_r2: -1.5214e+00\n",
      "Epoch 79/100\n",
      "35/35 - 0s - loss: 162737456.0000 - r2: -1.1665e+00 - val_loss: 123229200.0000 - val_r2: -1.5335e+00\n",
      "Epoch 80/100\n",
      "35/35 - 0s - loss: 162881392.0000 - r2: -2.6520e+00 - val_loss: 123210440.0000 - val_r2: -1.5064e+00\n",
      "Epoch 81/100\n",
      "35/35 - 0s - loss: 162840352.0000 - r2: -1.9936e+00 - val_loss: 123196488.0000 - val_r2: -1.5272e+00\n",
      "Epoch 82/100\n",
      "35/35 - 0s - loss: 162581776.0000 - r2: -4.9658e-01 - val_loss: 123180832.0000 - val_r2: -1.5485e+00\n",
      "Epoch 83/100\n",
      "35/35 - 0s - loss: 162568192.0000 - r2: -9.0711e-01 - val_loss: 123165216.0000 - val_r2: -1.5249e+00\n",
      "Epoch 84/100\n",
      "35/35 - 0s - loss: 162818832.0000 - r2: -6.5460e-01 - val_loss: 123149280.0000 - val_r2: -1.5325e+00\n",
      "Epoch 85/100\n",
      "35/35 - 0s - loss: 162942832.0000 - r2: -7.2695e-01 - val_loss: 123137072.0000 - val_r2: -1.5371e+00\n",
      "Epoch 86/100\n",
      "35/35 - 0s - loss: 162525600.0000 - r2: -1.7023e+00 - val_loss: 123119032.0000 - val_r2: -1.5572e+00\n",
      "Epoch 87/100\n",
      "35/35 - 0s - loss: 162561584.0000 - r2: -6.6875e-01 - val_loss: 123101640.0000 - val_r2: -1.5608e+00\n",
      "Epoch 88/100\n",
      "35/35 - 0s - loss: 162390864.0000 - r2: -9.0989e-01 - val_loss: 123085344.0000 - val_r2: -1.5696e+00\n",
      "Epoch 89/100\n",
      "35/35 - 0s - loss: 162711232.0000 - r2: -4.3165e+00 - val_loss: 123069096.0000 - val_r2: -1.5651e+00\n",
      "Epoch 90/100\n",
      "35/35 - 0s - loss: 162753952.0000 - r2: -8.7706e-01 - val_loss: 123050616.0000 - val_r2: -1.5585e+00\n",
      "Epoch 91/100\n",
      "35/35 - 0s - loss: 162644416.0000 - r2: -1.9684e+00 - val_loss: 123038584.0000 - val_r2: -1.5520e+00\n",
      "Epoch 92/100\n",
      "35/35 - 0s - loss: 162554960.0000 - r2: -6.5516e-01 - val_loss: 123022832.0000 - val_r2: -1.5848e+00\n",
      "Epoch 93/100\n",
      "35/35 - 0s - loss: 162668176.0000 - r2: -3.6487e+00 - val_loss: 123003896.0000 - val_r2: -1.5923e+00\n",
      "Epoch 94/100\n",
      "35/35 - 0s - loss: 162500080.0000 - r2: -7.6936e+00 - val_loss: 122987720.0000 - val_r2: -1.5642e+00\n",
      "Epoch 95/100\n",
      "35/35 - 0s - loss: 162544912.0000 - r2: -4.6075e+00 - val_loss: 122976048.0000 - val_r2: -1.5678e+00\n",
      "Epoch 96/100\n",
      "35/35 - 0s - loss: 162566352.0000 - r2: -1.1212e+00 - val_loss: 122961224.0000 - val_r2: -1.5716e+00\n",
      "Epoch 97/100\n",
      "35/35 - 0s - loss: 162518624.0000 - r2: -3.7790e+00 - val_loss: 122951712.0000 - val_r2: -1.5860e+00\n",
      "Epoch 98/100\n",
      "35/35 - 0s - loss: 162753904.0000 - r2: -5.2388e-01 - val_loss: 122936008.0000 - val_r2: -1.5914e+00\n",
      "Epoch 99/100\n",
      "35/35 - 0s - loss: 162742176.0000 - r2: -5.5425e+00 - val_loss: 122919656.0000 - val_r2: -1.5892e+00\n",
      "Epoch 100/100\n",
      "35/35 - 0s - loss: 162618880.0000 - r2: -6.7167e-01 - val_loss: 122907280.0000 - val_r2: -1.5822e+00\n"
     ]
    }
   ],
   "source": [
    "# Run the NN on the california dataset\n",
    "model_2_reg_perf = model_2.fit(scaled_data_cali_rf, \n",
    "                    y_train_cali.values, \n",
    "                    validation_split=0.1, \n",
    "                    epochs=100, \n",
    "                    verbose=2)"
   ]
  },
  {
   "cell_type": "code",
   "execution_count": 74,
   "metadata": {},
   "outputs": [
    {
     "data": {
      "image/png": "[encoded data removed]",
      "text/plain": [
       "<Figure size 432x288 with 1 Axes>"
      ]
     },
     "metadata": {
      "needs_background": "light"
     },
     "output_type": "display_data"
    },
    {
     "data": {
      "text/plain": [
       "-0.011453165074577942"
      ]
     },
     "execution_count": 74,
     "metadata": {},
     "output_type": "execute_result"
    }
   ],
   "source": [
    "# Plot the results\n",
    "plt.plot(model_2_reg_perf.history['r2'])\n",
    "plt.plot(model_2_reg_perf.history['val_r2'])\n",
    "plt.title('R2 vs Epochs')\n",
    "plt.ylabel('R2')\n",
    "plt.xlabel('Epoch')\n",
    "plt.legend(['Train', 'Validation'], loc='lower right')\n",
    "plt.show()\n",
    "metrics.r2_score(y_test_cali.values, model_2.predict(x_test_cali_rf).flatten())"
   ]
  },
  {
   "cell_type": "code",
   "execution_count": 69,
   "metadata": {},
   "outputs": [],
   "source": [
    "tf.random.set_seed(42)\n",
    "K.clear_session()"
   ]
  },
  {
   "cell_type": "code",
   "execution_count": 70,
   "metadata": {},
   "outputs": [
    {
     "name": "stdout",
     "output_type": "stream",
     "text": [
      "Model: \"sequential\"\n",
      "_________________________________________________________________\n",
      "Layer (type)                 Output Shape              Param #   \n",
      "=================================================================\n",
      "dense (Dense)                (None, 128)               896       \n",
      "_________________________________________________________________\n",
      "dropout (Dropout)            (None, 128)               0         \n",
      "_________________________________________________________________\n",
      "dense_1 (Dense)              (None, 64)                8256      \n",
      "_________________________________________________________________\n",
      "dropout_1 (Dropout)          (None, 64)                0         \n",
      "_________________________________________________________________\n",
      "dense_2 (Dense)              (None, 32)                2080      \n",
      "_________________________________________________________________\n",
      "dense_3 (Dense)              (None, 1)                 33        \n",
      "=================================================================\n",
      "Total params: 11,265\n",
      "Trainable params: 11,265\n",
      "Non-trainable params: 0\n",
      "_________________________________________________________________\n"
     ]
    }
   ],
   "source": [
    "# Set up the NN for the portugal dataset\n",
    "model_2 = Sequential()\n",
    "model_2.add(Dense(128, activation=LeakyReLU(alpha=0.01), input_shape=(scaled_data_port_rf.shape[1],)))\n",
    "model_2.add(Dropout(0.1))\n",
    "model_2.add(Dense(64, activation=LeakyReLU(alpha=0.01)))\n",
    "model_2.add(Dropout(0.1))\n",
    "model_2.add(Dense(32, activation=LeakyReLU(alpha=0.01)))\n",
    "model_2.add(Dense(1, activation='linear'))\n",
    "def r2(y_true, y_pred):\n",
    "    SS_res =  K.sum(K.square( y_true-y_pred ))\n",
    "    SS_tot = K.sum(K.square( y_true - K.mean(y_true) ) )\n",
    "    return ( 1 - SS_res/(SS_tot + K.epsilon()) )\n",
    "model_2.compile(loss = 'mean_squared_error', optimizer='adamax', metrics=[r2])\n",
    "model_2.summary()"
   ]
  },
  {
   "cell_type": "code",
   "execution_count": 71,
   "metadata": {},
   "outputs": [
    {
     "name": "stdout",
     "output_type": "stream",
     "text": [
      "Epoch 1/100\n",
      "11/11 - 1s - loss: 2348.7368 - r2: -1.7345e-01 - val_loss: 1221.2623 - val_r2: -9.0132e-02\n",
      "Epoch 2/100\n",
      "11/11 - 0s - loss: 2344.1221 - r2: -1.6578e-01 - val_loss: 1218.0580 - val_r2: -5.7002e-02\n",
      "Epoch 3/100\n",
      "11/11 - 0s - loss: 2339.4717 - r2: -1.6532e-01 - val_loss: 1215.1376 - val_r2: -2.9542e-02\n",
      "Epoch 4/100\n",
      "11/11 - 0s - loss: 2335.8313 - r2: -1.5484e-01 - val_loss: 1211.5768 - val_r2: -3.7937e-03\n",
      "Epoch 5/100\n",
      "11/11 - 0s - loss: 2330.0417 - r2: -1.4567e-01 - val_loss: 1208.1296 - val_r2: 0.0161\n",
      "Epoch 6/100\n",
      "11/11 - 0s - loss: 2325.9766 - r2: -1.3960e-01 - val_loss: 1204.1080 - val_r2: 0.0309\n",
      "Epoch 7/100\n",
      "11/11 - 0s - loss: 2320.5591 - r2: -1.2381e-01 - val_loss: 1199.7750 - val_r2: 0.0370\n",
      "Epoch 8/100\n",
      "11/11 - 0s - loss: 2315.2190 - r2: -1.1648e-01 - val_loss: 1194.7896 - val_r2: 0.0248\n",
      "Epoch 9/100\n",
      "11/11 - 0s - loss: 2307.1838 - r2: -9.4477e-02 - val_loss: 1190.2902 - val_r2: -4.4185e-03\n",
      "Epoch 10/100\n",
      "11/11 - 0s - loss: 2302.0613 - r2: -8.5034e-02 - val_loss: 1185.4626 - val_r2: -5.8514e-02\n",
      "Epoch 11/100\n",
      "11/11 - 0s - loss: 2294.4729 - r2: -7.5822e-02 - val_loss: 1181.2810 - val_r2: -1.3359e-01\n",
      "Epoch 12/100\n",
      "11/11 - 0s - loss: 2289.3831 - r2: -6.8872e-02 - val_loss: 1177.0945 - val_r2: -2.3811e-01\n",
      "Epoch 13/100\n",
      "11/11 - 0s - loss: 2286.8713 - r2: -7.0938e-02 - val_loss: 1172.8671 - val_r2: -3.6486e-01\n",
      "Epoch 14/100\n",
      "11/11 - 0s - loss: 2275.6750 - r2: -8.1601e-02 - val_loss: 1169.6273 - val_r2: -5.1669e-01\n",
      "Epoch 15/100\n",
      "11/11 - 0s - loss: 2277.3010 - r2: -4.0355e-02 - val_loss: 1165.8181 - val_r2: -7.0047e-01\n",
      "Epoch 16/100\n",
      "11/11 - 0s - loss: 2271.2739 - r2: -6.7762e-02 - val_loss: 1162.7845 - val_r2: -8.8964e-01\n",
      "Epoch 17/100\n",
      "11/11 - 0s - loss: 2258.7134 - r2: -1.0480e-01 - val_loss: 1160.1855 - val_r2: -1.0974e+00\n",
      "Epoch 18/100\n",
      "11/11 - 0s - loss: 2256.5212 - r2: -5.9997e-02 - val_loss: 1157.0104 - val_r2: -1.3048e+00\n",
      "Epoch 19/100\n",
      "11/11 - 0s - loss: 2249.5459 - r2: -1.6244e-01 - val_loss: 1154.9030 - val_r2: -1.5455e+00\n",
      "Epoch 20/100\n",
      "11/11 - 0s - loss: 2249.2056 - r2: -5.0554e-02 - val_loss: 1152.4429 - val_r2: -1.7921e+00\n",
      "Epoch 21/100\n",
      "11/11 - 0s - loss: 2244.1958 - r2: -4.5935e-02 - val_loss: 1150.1559 - val_r2: -2.0234e+00\n",
      "Epoch 22/100\n",
      "11/11 - 0s - loss: 2232.5100 - r2: -4.4280e-02 - val_loss: 1149.1448 - val_r2: -2.2074e+00\n",
      "Epoch 23/100\n",
      "11/11 - 0s - loss: 2236.7090 - r2: -9.1094e-02 - val_loss: 1146.7480 - val_r2: -2.5163e+00\n",
      "Epoch 24/100\n",
      "11/11 - 0s - loss: 2231.5044 - r2: -9.6193e-02 - val_loss: 1144.9706 - val_r2: -2.7478e+00\n",
      "Epoch 25/100\n",
      "11/11 - 0s - loss: 2224.9670 - r2: -9.1209e-02 - val_loss: 1143.1682 - val_r2: -2.9628e+00\n",
      "Epoch 26/100\n",
      "11/11 - 0s - loss: 2230.8621 - r2: -1.8649e-01 - val_loss: 1142.5782 - val_r2: -3.1267e+00\n",
      "Epoch 27/100\n",
      "11/11 - 0s - loss: 2221.4661 - r2: -1.1108e-01 - val_loss: 1141.5372 - val_r2: -3.2859e+00\n",
      "Epoch 28/100\n",
      "11/11 - 0s - loss: 2233.8547 - r2: -1.2930e-01 - val_loss: 1140.7118 - val_r2: -3.4116e+00\n",
      "Epoch 29/100\n",
      "11/11 - 0s - loss: 2220.9397 - r2: -3.4134e-01 - val_loss: 1138.9915 - val_r2: -3.7032e+00\n",
      "Epoch 30/100\n",
      "11/11 - 0s - loss: 2215.1418 - r2: -3.6911e-01 - val_loss: 1137.5068 - val_r2: -3.8715e+00\n",
      "Epoch 31/100\n",
      "11/11 - 0s - loss: 2213.3760 - r2: -1.2390e-01 - val_loss: 1136.5684 - val_r2: -4.0357e+00\n",
      "Epoch 32/100\n",
      "11/11 - 0s - loss: 2207.5349 - r2: -1.1140e-01 - val_loss: 1135.0598 - val_r2: -4.1805e+00\n",
      "Epoch 33/100\n",
      "11/11 - 0s - loss: 2217.7786 - r2: -1.8535e-01 - val_loss: 1134.3445 - val_r2: -4.3293e+00\n",
      "Epoch 34/100\n",
      "11/11 - 0s - loss: 2213.0166 - r2: -3.5196e-01 - val_loss: 1133.6617 - val_r2: -4.3389e+00\n",
      "Epoch 35/100\n",
      "11/11 - 0s - loss: 2208.0254 - r2: -1.1486e-01 - val_loss: 1133.4468 - val_r2: -4.4033e+00\n",
      "Epoch 36/100\n",
      "11/11 - 0s - loss: 2207.5471 - r2: -1.0848e-01 - val_loss: 1132.7018 - val_r2: -4.5883e+00\n",
      "Epoch 37/100\n",
      "11/11 - 0s - loss: 2208.1333 - r2: -1.3511e-01 - val_loss: 1131.1465 - val_r2: -4.7644e+00\n",
      "Epoch 38/100\n",
      "11/11 - 0s - loss: 2193.7148 - r2: -2.2946e-01 - val_loss: 1130.7878 - val_r2: -4.7530e+00\n",
      "Epoch 39/100\n",
      "11/11 - 0s - loss: 2200.8313 - r2: -2.5181e-01 - val_loss: 1129.6669 - val_r2: -4.9711e+00\n",
      "Epoch 40/100\n",
      "11/11 - 0s - loss: 2196.9512 - r2: -2.9598e-01 - val_loss: 1128.9713 - val_r2: -5.0114e+00\n",
      "Epoch 41/100\n",
      "11/11 - 0s - loss: 2197.4719 - r2: -1.0289e-01 - val_loss: 1128.4502 - val_r2: -5.0043e+00\n",
      "Epoch 42/100\n",
      "11/11 - 0s - loss: 2195.4832 - r2: -4.2575e-01 - val_loss: 1127.6268 - val_r2: -5.2871e+00\n",
      "Epoch 43/100\n",
      "11/11 - 0s - loss: 2185.5627 - r2: -2.3823e-01 - val_loss: 1126.6046 - val_r2: -5.2746e+00\n",
      "Epoch 44/100\n",
      "11/11 - 0s - loss: 2193.1577 - r2: -1.5750e-01 - val_loss: 1125.6997 - val_r2: -5.4653e+00\n",
      "Epoch 45/100\n",
      "11/11 - 0s - loss: 2186.4851 - r2: -1.6738e-01 - val_loss: 1124.8267 - val_r2: -5.3887e+00\n",
      "Epoch 46/100\n",
      "11/11 - 0s - loss: 2187.4089 - r2: -1.9484e-01 - val_loss: 1124.4329 - val_r2: -5.3559e+00\n",
      "Epoch 47/100\n",
      "11/11 - 0s - loss: 2205.5964 - r2: -9.7974e-01 - val_loss: 1123.8674 - val_r2: -5.4804e+00\n",
      "Epoch 48/100\n",
      "11/11 - 0s - loss: 2188.3076 - r2: -4.6085e-01 - val_loss: 1123.2698 - val_r2: -5.4832e+00\n",
      "Epoch 49/100\n",
      "11/11 - 0s - loss: 2193.9175 - r2: -1.8835e+00 - val_loss: 1123.0471 - val_r2: -5.4679e+00\n",
      "Epoch 50/100\n",
      "11/11 - 0s - loss: 2185.3933 - r2: -1.0053e-01 - val_loss: 1122.0182 - val_r2: -5.5693e+00\n",
      "Epoch 51/100\n",
      "11/11 - 0s - loss: 2190.6355 - r2: -1.2311e+00 - val_loss: 1121.0963 - val_r2: -5.4343e+00\n",
      "Epoch 52/100\n",
      "11/11 - 0s - loss: 2196.7026 - r2: -3.4458e-01 - val_loss: 1120.5176 - val_r2: -5.4231e+00\n",
      "Epoch 53/100\n",
      "11/11 - 0s - loss: 2191.2236 - r2: -2.2134e-01 - val_loss: 1119.8593 - val_r2: -5.4789e+00\n",
      "Epoch 54/100\n",
      "11/11 - 0s - loss: 2174.6462 - r2: -4.2156e-01 - val_loss: 1119.2482 - val_r2: -5.5374e+00\n",
      "Epoch 55/100\n",
      "11/11 - 0s - loss: 2177.0081 - r2: -1.6327e-01 - val_loss: 1118.4049 - val_r2: -5.5613e+00\n",
      "Epoch 56/100\n",
      "11/11 - 0s - loss: 2171.3257 - r2: -8.9104e-01 - val_loss: 1117.8146 - val_r2: -5.5867e+00\n",
      "Epoch 57/100\n",
      "11/11 - 0s - loss: 2182.9009 - r2: -3.0601e-01 - val_loss: 1116.9917 - val_r2: -5.5028e+00\n",
      "Epoch 58/100\n",
      "11/11 - 0s - loss: 2182.2561 - r2: -4.5363e-01 - val_loss: 1116.8167 - val_r2: -5.5382e+00\n",
      "Epoch 59/100\n",
      "11/11 - 0s - loss: 2181.5540 - r2: -1.8199e-01 - val_loss: 1116.2291 - val_r2: -5.4961e+00\n",
      "Epoch 60/100\n",
      "11/11 - 0s - loss: 2183.5239 - r2: -1.2785e-01 - val_loss: 1115.8401 - val_r2: -5.4716e+00\n",
      "Epoch 61/100\n",
      "11/11 - 0s - loss: 2170.3479 - r2: -4.2709e-01 - val_loss: 1115.0953 - val_r2: -5.5777e+00\n",
      "Epoch 62/100\n",
      "11/11 - 0s - loss: 2169.4526 - r2: -3.7307e-01 - val_loss: 1114.4417 - val_r2: -5.6033e+00\n",
      "Epoch 63/100\n",
      "11/11 - 0s - loss: 2177.3774 - r2: -2.0963e-01 - val_loss: 1112.7367 - val_r2: -5.4284e+00\n",
      "Epoch 64/100\n",
      "11/11 - 0s - loss: 2193.4861 - r2: -2.9478e-01 - val_loss: 1112.1292 - val_r2: -5.3008e+00\n",
      "Epoch 65/100\n",
      "11/11 - 0s - loss: 2174.7170 - r2: -6.2926e-01 - val_loss: 1111.5583 - val_r2: -5.2390e+00\n",
      "Epoch 66/100\n",
      "11/11 - 0s - loss: 2191.8401 - r2: -1.2565e-01 - val_loss: 1110.4811 - val_r2: -5.2202e+00\n",
      "Epoch 67/100\n",
      "11/11 - 0s - loss: 2170.1863 - r2: -8.5226e-01 - val_loss: 1110.0880 - val_r2: -5.1006e+00\n",
      "Epoch 68/100\n",
      "11/11 - 0s - loss: 2174.7766 - r2: -1.8648e+00 - val_loss: 1110.2423 - val_r2: -5.2452e+00\n",
      "Epoch 69/100\n",
      "11/11 - 0s - loss: 2182.7031 - r2: -6.9175e-01 - val_loss: 1109.1289 - val_r2: -5.1832e+00\n",
      "Epoch 70/100\n",
      "11/11 - 0s - loss: 2176.6799 - r2: -6.2293e-01 - val_loss: 1108.4509 - val_r2: -5.2022e+00\n",
      "Epoch 71/100\n",
      "11/11 - 0s - loss: 2187.3645 - r2: -2.4035e-01 - val_loss: 1107.8121 - val_r2: -5.2265e+00\n",
      "Epoch 72/100\n",
      "11/11 - 0s - loss: 2167.7188 - r2: -3.6952e-01 - val_loss: 1107.7645 - val_r2: -5.0590e+00\n",
      "Epoch 73/100\n",
      "11/11 - 0s - loss: 2167.5496 - r2: -2.6918e-01 - val_loss: 1106.8136 - val_r2: -5.0362e+00\n",
      "Epoch 74/100\n",
      "11/11 - 0s - loss: 2166.0728 - r2: -1.6406e-01 - val_loss: 1105.4418 - val_r2: -5.0543e+00\n",
      "Epoch 75/100\n",
      "11/11 - 0s - loss: 2168.2698 - r2: -8.6268e-01 - val_loss: 1104.5486 - val_r2: -5.0186e+00\n",
      "Epoch 76/100\n",
      "11/11 - 0s - loss: 2158.0884 - r2: -2.7316e-01 - val_loss: 1104.2032 - val_r2: -5.0738e+00\n",
      "Epoch 77/100\n",
      "11/11 - 0s - loss: 2167.1582 - r2: -3.7841e-01 - val_loss: 1103.7002 - val_r2: -5.1872e+00\n",
      "Epoch 78/100\n",
      "11/11 - 0s - loss: 2156.3430 - r2: -5.1151e-01 - val_loss: 1102.9496 - val_r2: -5.0398e+00\n",
      "Epoch 79/100\n",
      "11/11 - 0s - loss: 2163.1638 - r2: -5.8218e-01 - val_loss: 1101.8431 - val_r2: -4.8574e+00\n",
      "Epoch 80/100\n"
     ]
    },
    {
     "name": "stdout",
     "output_type": "stream",
     "text": [
      "11/11 - 0s - loss: 2161.2302 - r2: -7.5986e-01 - val_loss: 1101.0764 - val_r2: -4.9556e+00\n",
      "Epoch 81/100\n",
      "11/11 - 0s - loss: 2156.8674 - r2: -2.5836e-01 - val_loss: 1100.4033 - val_r2: -4.9664e+00\n",
      "Epoch 82/100\n",
      "11/11 - 0s - loss: 2175.9363 - r2: -2.3674e+00 - val_loss: 1099.4930 - val_r2: -4.8628e+00\n",
      "Epoch 83/100\n",
      "11/11 - 0s - loss: 2163.2048 - r2: -1.7283e-01 - val_loss: 1098.6235 - val_r2: -4.8206e+00\n",
      "Epoch 84/100\n",
      "11/11 - 0s - loss: 2156.2756 - r2: -6.4833e-01 - val_loss: 1098.0847 - val_r2: -4.7588e+00\n",
      "Epoch 85/100\n",
      "11/11 - 0s - loss: 2163.8206 - r2: -1.6967e-01 - val_loss: 1097.3206 - val_r2: -4.7526e+00\n",
      "Epoch 86/100\n",
      "11/11 - 0s - loss: 2166.3232 - r2: -4.9982e-01 - val_loss: 1096.4371 - val_r2: -4.6527e+00\n",
      "Epoch 87/100\n",
      "11/11 - 0s - loss: 2154.4639 - r2: -2.5833e-01 - val_loss: 1095.9880 - val_r2: -4.5339e+00\n",
      "Epoch 88/100\n",
      "11/11 - 0s - loss: 2161.7754 - r2: -4.4605e-01 - val_loss: 1095.3625 - val_r2: -4.6498e+00\n",
      "Epoch 89/100\n",
      "11/11 - 0s - loss: 2161.9314 - r2: -6.4344e-01 - val_loss: 1094.3269 - val_r2: -4.5940e+00\n",
      "Epoch 90/100\n",
      "11/11 - 0s - loss: 2161.9465 - r2: -2.0384e-01 - val_loss: 1093.3785 - val_r2: -4.4510e+00\n",
      "Epoch 91/100\n",
      "11/11 - 0s - loss: 2170.7051 - r2: -3.4715e-01 - val_loss: 1093.0768 - val_r2: -4.3028e+00\n",
      "Epoch 92/100\n",
      "11/11 - 0s - loss: 2168.5398 - r2: -1.4584e-01 - val_loss: 1092.5190 - val_r2: -4.2649e+00\n",
      "Epoch 93/100\n",
      "11/11 - 0s - loss: 2161.6692 - r2: -4.1434e-01 - val_loss: 1092.0938 - val_r2: -4.2112e+00\n",
      "Epoch 94/100\n",
      "11/11 - 0s - loss: 2177.1353 - r2: -4.0027e-01 - val_loss: 1091.7443 - val_r2: -4.2209e+00\n",
      "Epoch 95/100\n",
      "11/11 - 0s - loss: 2167.0669 - r2: -3.7315e-01 - val_loss: 1091.8147 - val_r2: -4.0885e+00\n",
      "Epoch 96/100\n",
      "11/11 - 0s - loss: 2173.1028 - r2: -2.9217e-01 - val_loss: 1091.3982 - val_r2: -4.1102e+00\n",
      "Epoch 97/100\n",
      "11/11 - 0s - loss: 2136.9490 - r2: -2.2680e-01 - val_loss: 1090.3325 - val_r2: -4.1409e+00\n",
      "Epoch 98/100\n",
      "11/11 - 0s - loss: 2152.7742 - r2: -3.4713e-01 - val_loss: 1090.1472 - val_r2: -4.1817e+00\n",
      "Epoch 99/100\n",
      "11/11 - 0s - loss: 2152.8372 - r2: -4.4387e-01 - val_loss: 1089.8607 - val_r2: -4.2299e+00\n",
      "Epoch 100/100\n",
      "11/11 - 0s - loss: 2170.4846 - r2: -3.8110e-01 - val_loss: 1089.6949 - val_r2: -4.1936e+00\n"
     ]
    }
   ],
   "source": [
    "# Run the NN for the portugal dataset\n",
    "model_2_reg_perf = model_2.fit(scaled_data_port_rf, \n",
    "                    y_train_port.values, \n",
    "                    validation_split=0.1, \n",
    "                    epochs=100, \n",
    "                    verbose=2)"
   ]
  },
  {
   "cell_type": "code",
   "execution_count": 72,
   "metadata": {},
   "outputs": [
    {
     "data": {
      "image/png": "[encoded data removed]",
      "text/plain": [
       "<Figure size 432x288 with 1 Axes>"
      ]
     },
     "metadata": {
      "needs_background": "light"
     },
     "output_type": "display_data"
    },
    {
     "data": {
      "text/plain": [
       "0.002168047752031277"
      ]
     },
     "execution_count": 72,
     "metadata": {},
     "output_type": "execute_result"
    }
   ],
   "source": [
    "# Plot the data\n",
    "plt.plot(model_2_reg_perf.history['r2'])\n",
    "plt.plot(model_2_reg_perf.history['val_r2'])\n",
    "plt.title('R2 vs Epochs')\n",
    "plt.ylabel('R2')\n",
    "plt.xlabel('Epoch')\n",
    "plt.legend(['Train', 'Validation'], loc='lower right')\n",
    "plt.show()\n",
    "metrics.r2_score(y_test_port.values, model_2.predict(x_test_port_rf).flatten())"
   ]
  },
  {
   "cell_type": "markdown",
   "metadata": {},
   "source": [
    "We can see that from these models, the portugal data had no clear trends to predicting burn area based on its features. On the other hand, the california wild fires do have some features but the correlation is very bad. It can be safely said that with the given data features, training a ML model to predict the area that a wildfire is going to burn is much more complicated and needs better data and better ML methods. Even the NN model that incorporated Regularization within had no success. From the given models, the Random forest model was the best model for predicting the burned area. Of the two datasets, the california dataset were the better one to predict burned area. Now we can move onto the classification problem of predicting the confidence that a wildfire will take place. This data set has many features such as wind, moisture content, soil content, weather, nearby water masses and more to predict the likelihood of a fire to take place. The multiclass classification problem is going to be split into 3 categories. The first category is very unlikely, second is somewhat likely and third is likely. We will split the Y dataset to represent this and then remove non important features. Finally we will train an ML model to see if we get any better results. "
   ]
  },
  {
   "cell_type": "code",
   "execution_count": 88,
   "metadata": {},
   "outputs": [
    {
     "name": "stdout",
     "output_type": "stream",
     "text": [
      "<class 'pandas.core.frame.DataFrame'>\n",
      "RangeIndex: 581012 entries, 0 to 581011\n",
      "Data columns (total 55 columns):\n",
      " #   Column                              Non-Null Count   Dtype\n",
      "---  ------                              --------------   -----\n",
      " 0   Elevation                           581012 non-null  int64\n",
      " 1   Aspect                              581012 non-null  int64\n",
      " 2   Slope                               581012 non-null  int64\n",
      " 3   Horizontal_Distance_To_Hydrology    581012 non-null  int64\n",
      " 4   Vertical_Distance_To_Hydrology      581012 non-null  int64\n",
      " 5   Horizontal_Distance_To_Roadways     581012 non-null  int64\n",
      " 6   Hillshade_9am                       581012 non-null  int64\n",
      " 7   Hillshade_Noon                      581012 non-null  int64\n",
      " 8   Hillshade_3pm                       581012 non-null  int64\n",
      " 9   Horizontal_Distance_To_Fire_Points  581012 non-null  int64\n",
      " 10  Wilderness_Area1                    581012 non-null  int64\n",
      " 11  Wilderness_Area2                    581012 non-null  int64\n",
      " 12  Wilderness_Area3                    581012 non-null  int64\n",
      " 13  Wilderness_Area4                    581012 non-null  int64\n",
      " 14  Soil_Type1                          581012 non-null  int64\n",
      " 15  Soil_Type2                          581012 non-null  int64\n",
      " 16  Soil_Type3                          581012 non-null  int64\n",
      " 17  Soil_Type4                          581012 non-null  int64\n",
      " 18  Soil_Type5                          581012 non-null  int64\n",
      " 19  Soil_Type6                          581012 non-null  int64\n",
      " 20  Soil_Type7                          581012 non-null  int64\n",
      " 21  Soil_Type8                          581012 non-null  int64\n",
      " 22  Soil_Type9                          581012 non-null  int64\n",
      " 23  Soil_Type10                         581012 non-null  int64\n",
      " 24  Soil_Type11                         581012 non-null  int64\n",
      " 25  Soil_Type12                         581012 non-null  int64\n",
      " 26  Soil_Type13                         581012 non-null  int64\n",
      " 27  Soil_Type14                         581012 non-null  int64\n",
      " 28  Soil_Type15                         581012 non-null  int64\n",
      " 29  Soil_Type16                         581012 non-null  int64\n",
      " 30  Soil_Type17                         581012 non-null  int64\n",
      " 31  Soil_Type18                         581012 non-null  int64\n",
      " 32  Soil_Type19                         581012 non-null  int64\n",
      " 33  Soil_Type20                         581012 non-null  int64\n",
      " 34  Soil_Type21                         581012 non-null  int64\n",
      " 35  Soil_Type22                         581012 non-null  int64\n",
      " 36  Soil_Type23                         581012 non-null  int64\n",
      " 37  Soil_Type24                         581012 non-null  int64\n",
      " 38  Soil_Type25                         581012 non-null  int64\n",
      " 39  Soil_Type26                         581012 non-null  int64\n",
      " 40  Soil_Type27                         581012 non-null  int64\n",
      " 41  Soil_Type28                         581012 non-null  int64\n",
      " 42  Soil_Type29                         581012 non-null  int64\n",
      " 43  Soil_Type30                         581012 non-null  int64\n",
      " 44  Soil_Type31                         581012 non-null  int64\n",
      " 45  Soil_Type32                         581012 non-null  int64\n",
      " 46  Soil_Type33                         581012 non-null  int64\n",
      " 47  Soil_Type34                         581012 non-null  int64\n",
      " 48  Soil_Type35                         581012 non-null  int64\n",
      " 49  Soil_Type36                         581012 non-null  int64\n",
      " 50  Soil_Type37                         581012 non-null  int64\n",
      " 51  Soil_Type38                         581012 non-null  int64\n",
      " 52  Soil_Type39                         581012 non-null  int64\n",
      " 53  Soil_Type40                         581012 non-null  int64\n",
      " 54  Cover_Type                          581012 non-null  int64\n",
      "dtypes: int64(55)\n",
      "memory usage: 243.8 MB\n"
     ]
    }
   ],
   "source": [
    "# Setup and read the dataset for the multiclass confidence problem\n",
    "conf_data = pd.read_csv(\"covtype.csv\")\n",
    "conf_data.info()\n",
    "y = conf_data['Cover_Type']\n",
    "X_train, X_test, y_train, y_test = train_test_split(conf_data, y, test_size=.20, random_state=42)"
   ]
  },
  {
   "cell_type": "code",
   "execution_count": 89,
   "metadata": {},
   "outputs": [],
   "source": [
    "# Tranform dataset\n",
    "s = MinMaxScaler()\n",
    "\n",
    "X_train_reg_s = s.fit_transform(X_train) \n",
    "X_test_reg_s = s.transform(X_test) "
   ]
  },
  {
   "cell_type": "code",
   "execution_count": 90,
   "metadata": {},
   "outputs": [],
   "source": [
    "tf.random.set_seed(42)\n",
    "K.clear_session()"
   ]
  },
  {
   "cell_type": "markdown",
   "metadata": {},
   "source": [
    "Split the dataset into its classes. Essentially, greater than 6 is a certain chance of fire, 2-6 is a chance fore fire and less than two is no chance."
   ]
  },
  {
   "cell_type": "code",
   "execution_count": 92,
   "metadata": {},
   "outputs": [
    {
     "data": {
      "text/plain": [
       "0    396084\n",
       "1     38352\n",
       "2     30373\n",
       "Name: Cover_Type, dtype: int64"
      ]
     },
     "execution_count": 92,
     "metadata": {},
     "output_type": "execute_result"
    }
   ],
   "source": [
    "# SPlit classes\n",
    "y_train_mc = y_train.apply(lambda x: np.where(x >= 6, 2, np.where(x < 6 and x > 2, 1, 0)))\n",
    "y_test_mc = y_test.apply(lambda x: np.where(x >= 6, 2, np.where(x < 6 and x > 2, 1, 0)))\n",
    "y_train_mc.value_counts()"
   ]
  },
  {
   "cell_type": "code",
   "execution_count": 93,
   "metadata": {},
   "outputs": [],
   "source": [
    "y_train_multiclass = tf.keras.utils.to_categorical(y_train_mc.values, num_classes=3)\n",
    "y_train_multiclass = tf.one_hot(y_train_mc, depth=3)\n",
    "y_test_multiclass = tf.one_hot(y_test_mc, depth=3)"
   ]
  },
  {
   "cell_type": "code",
   "execution_count": 94,
   "metadata": {},
   "outputs": [],
   "source": [
    "# Create The model\n",
    "model_mc = Sequential()\n",
    "model_mc.add(Dense(128, activation='relu', input_shape=(X_train_reg_s.shape[1], )))\n",
    "model_mc.add(Dropout(0.1))\n",
    "model_mc.add(Dense(64, activation='relu'))\n",
    "model_mc.add(Dropout(0.1))\n",
    "model_mc.add(Dense(3, activation='softmax'))"
   ]
  },
  {
   "cell_type": "code",
   "execution_count": 95,
   "metadata": {},
   "outputs": [
    {
     "name": "stdout",
     "output_type": "stream",
     "text": [
      "Model: \"sequential\"\n",
      "_________________________________________________________________\n",
      "Layer (type)                 Output Shape              Param #   \n",
      "=================================================================\n",
      "dense (Dense)                (None, 128)               7168      \n",
      "_________________________________________________________________\n",
      "dropout (Dropout)            (None, 128)               0         \n",
      "_________________________________________________________________\n",
      "dense_1 (Dense)              (None, 64)                8256      \n",
      "_________________________________________________________________\n",
      "dropout_1 (Dropout)          (None, 64)                0         \n",
      "_________________________________________________________________\n",
      "dense_2 (Dense)              (None, 3)                 195       \n",
      "=================================================================\n",
      "Total params: 15,619\n",
      "Trainable params: 15,619\n",
      "Non-trainable params: 0\n",
      "_________________________________________________________________\n"
     ]
    }
   ],
   "source": [
    "model_mc.compile(loss = \"categorical_crossentropy\", optimizer='adam', metrics=['accuracy', AUC(multi_label = True)])\n",
    "model_mc.summary()"
   ]
  },
  {
   "cell_type": "code",
   "execution_count": 97,
   "metadata": {},
   "outputs": [
    {
     "name": "stdout",
     "output_type": "stream",
     "text": [
      "Epoch 1/10\n",
      "13073/13073 - 26s - loss: 1.0616e-04 - accuracy: 1.0000 - auc: 1.0000 - val_loss: 7.0529e-10 - val_accuracy: 1.0000 - val_auc: 1.0000\n",
      "Epoch 2/10\n",
      "13073/13073 - 27s - loss: 3.0298e-04 - accuracy: 0.9999 - auc: 1.0000 - val_loss: 1.0154e-08 - val_accuracy: 1.0000 - val_auc: 1.0000\n",
      "Epoch 3/10\n",
      "13073/13073 - 27s - loss: 1.1696e-04 - accuracy: 1.0000 - auc: 1.0000 - val_loss: 9.1098e-09 - val_accuracy: 1.0000 - val_auc: 1.0000\n",
      "Epoch 4/10\n",
      "13073/13073 - 30s - loss: 1.1633e-04 - accuracy: 1.0000 - auc: 1.0000 - val_loss: 6.6706e-04 - val_accuracy: 0.9996 - val_auc: 1.0000\n",
      "Epoch 5/10\n",
      "13073/13073 - 29s - loss: 1.1592e-04 - accuracy: 1.0000 - auc: 1.0000 - val_loss: 2.5852e-09 - val_accuracy: 1.0000 - val_auc: 1.0000\n",
      "Epoch 6/10\n",
      "13073/13073 - 29s - loss: 6.3510e-05 - accuracy: 1.0000 - auc: 1.0000 - val_loss: 3.0776e-11 - val_accuracy: 1.0000 - val_auc: 1.0000\n",
      "Epoch 7/10\n",
      "13073/13073 - 28s - loss: 2.4086e-04 - accuracy: 0.9999 - auc: 1.0000 - val_loss: 1.7120e-08 - val_accuracy: 1.0000 - val_auc: 1.0000\n",
      "Epoch 8/10\n",
      "13073/13073 - 28s - loss: 3.0584e-04 - accuracy: 0.9999 - auc: 1.0000 - val_loss: 9.2764e-09 - val_accuracy: 1.0000 - val_auc: 1.0000\n",
      "Epoch 9/10\n",
      "13073/13073 - 28s - loss: 7.8969e-05 - accuracy: 1.0000 - auc: 1.0000 - val_loss: 6.0527e-10 - val_accuracy: 1.0000 - val_auc: 1.0000\n",
      "Epoch 10/10\n",
      "13073/13073 - 28s - loss: 9.4833e-05 - accuracy: 1.0000 - auc: 1.0000 - val_loss: 1.8697e-09 - val_accuracy: 1.0000 - val_auc: 1.0000\n"
     ]
    }
   ],
   "source": [
    "# Run the model\n",
    "multi_class = model_mc.fit(X_train_reg_s, \n",
    "                    y_train_multiclass,\n",
    "                    validation_split=0.1, \n",
    "                    epochs=10, \n",
    "                    verbose=2)"
   ]
  },
  {
   "cell_type": "code",
   "execution_count": 101,
   "metadata": {},
   "outputs": [
    {
     "data": {
      "image/png": "[encoded data removed]",
      "text/plain": [
       "<Figure size 432x288 with 1 Axes>"
      ]
     },
     "metadata": {
      "needs_background": "light"
     },
     "output_type": "display_data"
    },
    {
     "name": "stdout",
     "output_type": "stream",
     "text": [
      "ROC AUC Score for Predicting the liklehood of wildfire:  1.0\n"
     ]
    }
   ],
   "source": [
    "#Plot the model\n",
    "plt.plot(multi_class.history['auc'])\n",
    "plt.plot(multi_class.history['val_auc'])\n",
    "plt.title('AUC vs Epochs')\n",
    "plt.ylabel('AUC')\n",
    "plt.xlabel('Epoch')\n",
    "plt.legend(['Train', 'Validation'], loc='lower right')\n",
    "plt.show()\n",
    "print('ROC AUC Score for Predicting the liklehood of wildfire: ', metrics.roc_auc_score(y_test_multiclass, model_mc.predict(X_test_reg_s), multi_class='ovo'))"
   ]
  },
  {
   "cell_type": "markdown",
   "metadata": {},
   "source": [
    "# Conclusions (5 Points)"
   ]
  },
  {
   "cell_type": "markdown",
   "metadata": {},
   "source": [
    "What can we conclude? Is the model successful? How will it be used? Importantly, what are some limitations that you might need to address going forward?"
   ]
  },
  {
   "cell_type": "markdown",
   "metadata": {},
   "source": [
    "From this, it can be concluded that the random forest regressor was the best model in predicting the burn area for California. It seemed that the R2 score was around 0.25. Still not a very good predictor. The portugal dataset proved to have no correlation and not predictable to any sort of model. The last part we moved to predicting the confidence of wildfire happening in an area based on some charectistics. We turned the problem into a multiclass classifier problem and us NN to solve. The ROC AUC curve showed a 100% validation rate meaning that this model was very succesfull at predicting the likelihood of a fire happening. Based on the current data and ML algorithms available now, this results make sense. Our algorithms and data available to study and predict the spread of weather routes and hazardous events are at a primal stage. It can be seen that the data out there is not yet mature to safely predict wildfire behavior. Hence, many entrepreneurships are focusing on this very ML task.   "
   ]
  },
  {
   "cell_type": "markdown",
   "metadata": {},
   "source": [
    "### Bonus (Explainable AI, up to 5 extra points)"
   ]
  },
  {
   "cell_type": "markdown",
   "metadata": {},
   "source": [
    "In the real world, people are rightfully skeptical when they hear about AI/ML success. Help build confidence in the model's predictions by using tools in the Week 10 Notebook. "
   ]
  },
  {
   "cell_type": "code",
   "execution_count": null,
   "metadata": {},
   "outputs": [],
   "source": []
  }
 ],
 "metadata": {
  "kernelspec": {
   "display_name": "Python 3 (ipykernel)",
   "language": "python",
   "name": "python3"
  },
  "language_info": {
   "codemirror_mode": {
    "name": "ipython",
    "version": 3
   },
   "file_extension": ".py",
   "mimetype": "text/x-python",
   "name": "python",
   "nbconvert_exporter": "python",
   "pygments_lexer": "ipython3",
   "version": "3.9.7"
  }
 },
 "nbformat": 4,
 "nbformat_minor": 4
}
